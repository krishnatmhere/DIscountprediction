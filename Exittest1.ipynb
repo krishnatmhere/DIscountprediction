{
  "nbformat": 4,
  "nbformat_minor": 0,
  "metadata": {
    "colab": {
      "provenance": []
    },
    "kernelspec": {
      "name": "python3",
      "display_name": "Python 3"
    },
    "language_info": {
      "name": "python"
    },
    "accelerator": "GPU",
    "gpuClass": "standard"
  },
  "cells": [
    {
      "cell_type": "code",
      "execution_count": 117,
      "metadata": {
        "id": "GiSCBfJqHMiV"
      },
      "outputs": [],
      "source": [
        "import numpy as np\n",
        "import pandas as pd\n",
        "import matplotlib.pyplot as plt\n",
        "import seaborn as sns"
      ]
    },
    {
      "cell_type": "code",
      "source": [
        "trainorg = pd.read_csv('train.csv')\n",
        "testorg = pd.read_csv('test.csv')"
      ],
      "metadata": {
        "id": "_GaAyd7sHkI6"
      },
      "execution_count": 118,
      "outputs": []
    },
    {
      "cell_type": "code",
      "source": [
        "trainorg.head()"
      ],
      "metadata": {
        "colab": {
          "base_uri": "https://localhost:8080/",
          "height": 270
        },
        "id": "0iszp0QzHn9D",
        "outputId": "52c00a02-5331-477e-f776-c3c15a82426f"
      },
      "execution_count": 119,
      "outputs": [
        {
          "output_type": "execute_result",
          "data": {
            "text/plain": [
              "  Customer_ID  No_of_orders_placed Category_of_customers  Maximum_bill  \\\n",
              "0   CUS0x4c0d                 99.0              Inactive       1549.05   \n",
              "1   CUS0x7d45                  5.0              Inactive       3682.21   \n",
              "2   CUS0x68c1                181.0              Inactive        729.08   \n",
              "3   CUS0x1c6e                196.0               Passive       1558.58   \n",
              "4   CUS0x286f                211.0                Active       1260.48   \n",
              "\n",
              "   Minimum_bill Last_order_placed_date  No_of_issues_raised  Customer_rating  \\\n",
              "0         79.00    05/31/2015 08:40 PM                  NaN              3.0   \n",
              "1        124.69    06/29/2015 11:15 PM                  5.0              4.0   \n",
              "2        297.79    04/29/2016 06:43 AM                 44.0              4.0   \n",
              "3        102.92    10/18/2019 02:47 PM                 49.0              4.0   \n",
              "4        291.54    11/13/2020 12:57 PM                 43.0              4.0   \n",
              "\n",
              "   Average_food_rating  Average_happiness_rating  Coupon_consumption_status  \\\n",
              "0                  4.0                         3                       99.0   \n",
              "1                  4.0                         4                        5.0   \n",
              "2                  3.0                         4                      152.0   \n",
              "3                  3.0                         3                       85.0   \n",
              "4                  3.0                         4                      120.0   \n",
              "\n",
              "   Coupons_offered Premium_membership  Discount_percentage  \n",
              "0              119                 No                 33.0  \n",
              "1               18                 No                 31.0  \n",
              "2              245                 No                 43.0  \n",
              "3              302                 No                 41.0  \n",
              "4              306                 No                 48.0  "
            ],
            "text/html": [
              "\n",
              "  <div id=\"df-59fd900e-031b-4f61-8eca-602958082afc\">\n",
              "    <div class=\"colab-df-container\">\n",
              "      <div>\n",
              "<style scoped>\n",
              "    .dataframe tbody tr th:only-of-type {\n",
              "        vertical-align: middle;\n",
              "    }\n",
              "\n",
              "    .dataframe tbody tr th {\n",
              "        vertical-align: top;\n",
              "    }\n",
              "\n",
              "    .dataframe thead th {\n",
              "        text-align: right;\n",
              "    }\n",
              "</style>\n",
              "<table border=\"1\" class=\"dataframe\">\n",
              "  <thead>\n",
              "    <tr style=\"text-align: right;\">\n",
              "      <th></th>\n",
              "      <th>Customer_ID</th>\n",
              "      <th>No_of_orders_placed</th>\n",
              "      <th>Category_of_customers</th>\n",
              "      <th>Maximum_bill</th>\n",
              "      <th>Minimum_bill</th>\n",
              "      <th>Last_order_placed_date</th>\n",
              "      <th>No_of_issues_raised</th>\n",
              "      <th>Customer_rating</th>\n",
              "      <th>Average_food_rating</th>\n",
              "      <th>Average_happiness_rating</th>\n",
              "      <th>Coupon_consumption_status</th>\n",
              "      <th>Coupons_offered</th>\n",
              "      <th>Premium_membership</th>\n",
              "      <th>Discount_percentage</th>\n",
              "    </tr>\n",
              "  </thead>\n",
              "  <tbody>\n",
              "    <tr>\n",
              "      <th>0</th>\n",
              "      <td>CUS0x4c0d</td>\n",
              "      <td>99.0</td>\n",
              "      <td>Inactive</td>\n",
              "      <td>1549.05</td>\n",
              "      <td>79.00</td>\n",
              "      <td>05/31/2015 08:40 PM</td>\n",
              "      <td>NaN</td>\n",
              "      <td>3.0</td>\n",
              "      <td>4.0</td>\n",
              "      <td>3</td>\n",
              "      <td>99.0</td>\n",
              "      <td>119</td>\n",
              "      <td>No</td>\n",
              "      <td>33.0</td>\n",
              "    </tr>\n",
              "    <tr>\n",
              "      <th>1</th>\n",
              "      <td>CUS0x7d45</td>\n",
              "      <td>5.0</td>\n",
              "      <td>Inactive</td>\n",
              "      <td>3682.21</td>\n",
              "      <td>124.69</td>\n",
              "      <td>06/29/2015 11:15 PM</td>\n",
              "      <td>5.0</td>\n",
              "      <td>4.0</td>\n",
              "      <td>4.0</td>\n",
              "      <td>4</td>\n",
              "      <td>5.0</td>\n",
              "      <td>18</td>\n",
              "      <td>No</td>\n",
              "      <td>31.0</td>\n",
              "    </tr>\n",
              "    <tr>\n",
              "      <th>2</th>\n",
              "      <td>CUS0x68c1</td>\n",
              "      <td>181.0</td>\n",
              "      <td>Inactive</td>\n",
              "      <td>729.08</td>\n",
              "      <td>297.79</td>\n",
              "      <td>04/29/2016 06:43 AM</td>\n",
              "      <td>44.0</td>\n",
              "      <td>4.0</td>\n",
              "      <td>3.0</td>\n",
              "      <td>4</td>\n",
              "      <td>152.0</td>\n",
              "      <td>245</td>\n",
              "      <td>No</td>\n",
              "      <td>43.0</td>\n",
              "    </tr>\n",
              "    <tr>\n",
              "      <th>3</th>\n",
              "      <td>CUS0x1c6e</td>\n",
              "      <td>196.0</td>\n",
              "      <td>Passive</td>\n",
              "      <td>1558.58</td>\n",
              "      <td>102.92</td>\n",
              "      <td>10/18/2019 02:47 PM</td>\n",
              "      <td>49.0</td>\n",
              "      <td>4.0</td>\n",
              "      <td>3.0</td>\n",
              "      <td>3</td>\n",
              "      <td>85.0</td>\n",
              "      <td>302</td>\n",
              "      <td>No</td>\n",
              "      <td>41.0</td>\n",
              "    </tr>\n",
              "    <tr>\n",
              "      <th>4</th>\n",
              "      <td>CUS0x286f</td>\n",
              "      <td>211.0</td>\n",
              "      <td>Active</td>\n",
              "      <td>1260.48</td>\n",
              "      <td>291.54</td>\n",
              "      <td>11/13/2020 12:57 PM</td>\n",
              "      <td>43.0</td>\n",
              "      <td>4.0</td>\n",
              "      <td>3.0</td>\n",
              "      <td>4</td>\n",
              "      <td>120.0</td>\n",
              "      <td>306</td>\n",
              "      <td>No</td>\n",
              "      <td>48.0</td>\n",
              "    </tr>\n",
              "  </tbody>\n",
              "</table>\n",
              "</div>\n",
              "      <button class=\"colab-df-convert\" onclick=\"convertToInteractive('df-59fd900e-031b-4f61-8eca-602958082afc')\"\n",
              "              title=\"Convert this dataframe to an interactive table.\"\n",
              "              style=\"display:none;\">\n",
              "        \n",
              "  <svg xmlns=\"http://www.w3.org/2000/svg\" height=\"24px\"viewBox=\"0 0 24 24\"\n",
              "       width=\"24px\">\n",
              "    <path d=\"M0 0h24v24H0V0z\" fill=\"none\"/>\n",
              "    <path d=\"M18.56 5.44l.94 2.06.94-2.06 2.06-.94-2.06-.94-.94-2.06-.94 2.06-2.06.94zm-11 1L8.5 8.5l.94-2.06 2.06-.94-2.06-.94L8.5 2.5l-.94 2.06-2.06.94zm10 10l.94 2.06.94-2.06 2.06-.94-2.06-.94-.94-2.06-.94 2.06-2.06.94z\"/><path d=\"M17.41 7.96l-1.37-1.37c-.4-.4-.92-.59-1.43-.59-.52 0-1.04.2-1.43.59L10.3 9.45l-7.72 7.72c-.78.78-.78 2.05 0 2.83L4 21.41c.39.39.9.59 1.41.59.51 0 1.02-.2 1.41-.59l7.78-7.78 2.81-2.81c.8-.78.8-2.07 0-2.86zM5.41 20L4 18.59l7.72-7.72 1.47 1.35L5.41 20z\"/>\n",
              "  </svg>\n",
              "      </button>\n",
              "      \n",
              "  <style>\n",
              "    .colab-df-container {\n",
              "      display:flex;\n",
              "      flex-wrap:wrap;\n",
              "      gap: 12px;\n",
              "    }\n",
              "\n",
              "    .colab-df-convert {\n",
              "      background-color: #E8F0FE;\n",
              "      border: none;\n",
              "      border-radius: 50%;\n",
              "      cursor: pointer;\n",
              "      display: none;\n",
              "      fill: #1967D2;\n",
              "      height: 32px;\n",
              "      padding: 0 0 0 0;\n",
              "      width: 32px;\n",
              "    }\n",
              "\n",
              "    .colab-df-convert:hover {\n",
              "      background-color: #E2EBFA;\n",
              "      box-shadow: 0px 1px 2px rgba(60, 64, 67, 0.3), 0px 1px 3px 1px rgba(60, 64, 67, 0.15);\n",
              "      fill: #174EA6;\n",
              "    }\n",
              "\n",
              "    [theme=dark] .colab-df-convert {\n",
              "      background-color: #3B4455;\n",
              "      fill: #D2E3FC;\n",
              "    }\n",
              "\n",
              "    [theme=dark] .colab-df-convert:hover {\n",
              "      background-color: #434B5C;\n",
              "      box-shadow: 0px 1px 3px 1px rgba(0, 0, 0, 0.15);\n",
              "      filter: drop-shadow(0px 1px 2px rgba(0, 0, 0, 0.3));\n",
              "      fill: #FFFFFF;\n",
              "    }\n",
              "  </style>\n",
              "\n",
              "      <script>\n",
              "        const buttonEl =\n",
              "          document.querySelector('#df-59fd900e-031b-4f61-8eca-602958082afc button.colab-df-convert');\n",
              "        buttonEl.style.display =\n",
              "          google.colab.kernel.accessAllowed ? 'block' : 'none';\n",
              "\n",
              "        async function convertToInteractive(key) {\n",
              "          const element = document.querySelector('#df-59fd900e-031b-4f61-8eca-602958082afc');\n",
              "          const dataTable =\n",
              "            await google.colab.kernel.invokeFunction('convertToInteractive',\n",
              "                                                     [key], {});\n",
              "          if (!dataTable) return;\n",
              "\n",
              "          const docLinkHtml = 'Like what you see? Visit the ' +\n",
              "            '<a target=\"_blank\" href=https://colab.research.google.com/notebooks/data_table.ipynb>data table notebook</a>'\n",
              "            + ' to learn more about interactive tables.';\n",
              "          element.innerHTML = '';\n",
              "          dataTable['output_type'] = 'display_data';\n",
              "          await google.colab.output.renderOutput(dataTable, element);\n",
              "          const docLink = document.createElement('div');\n",
              "          docLink.innerHTML = docLinkHtml;\n",
              "          element.appendChild(docLink);\n",
              "        }\n",
              "      </script>\n",
              "    </div>\n",
              "  </div>\n",
              "  "
            ]
          },
          "metadata": {},
          "execution_count": 119
        }
      ]
    },
    {
      "cell_type": "code",
      "source": [
        "testorg.head()"
      ],
      "metadata": {
        "colab": {
          "base_uri": "https://localhost:8080/",
          "height": 270
        },
        "id": "MeJ43KeoH0Ja",
        "outputId": "58073df6-95c4-4671-ba2d-28ee3b33aacc"
      },
      "execution_count": 120,
      "outputs": [
        {
          "output_type": "execute_result",
          "data": {
            "text/plain": [
              "  Customer_ID  No_of_orders_placed Category_of_customers  Maximum_bill  \\\n",
              "0    CUS0xfce                 92.0                Active       1332.28   \n",
              "1   CUS0x52e0                197.0              Inactive       2058.34   \n",
              "2   CUS0x439c                 94.0               Passive       2524.05   \n",
              "3   CUS0x7cdc                229.0               Passive       1258.67   \n",
              "4   CUS0x59eb                172.0               Passive       2033.03   \n",
              "\n",
              "   Minimum_bill Last_order_placed_date  No_of_issues_raised  Customer_rating  \\\n",
              "0        238.00                    NaN                  NaN              NaN   \n",
              "1        230.51    02/15/2017 08:14 PM                  4.0              5.0   \n",
              "2        232.00    11/21/2019 03:01 AM                 36.0              4.0   \n",
              "3        266.03    03/24/2018 11:21 PM                 12.0              2.0   \n",
              "4        141.95    08/21/2018 05:48 AM                 31.0              4.0   \n",
              "\n",
              "   Average_food_rating  Average_happiness_rating  Coupon_consumption_status  \\\n",
              "0                  3.0                         3                       92.0   \n",
              "1                  3.0                         4                       31.0   \n",
              "2                  3.0                         4                       36.0   \n",
              "3                  5.0                         4                      168.0   \n",
              "4                  4.0                         3                       64.0   \n",
              "\n",
              "   Coupons_offered Premium_membership  \n",
              "0              115                 No  \n",
              "1              297                 No  \n",
              "2              119                 No  \n",
              "3              337                 No  \n",
              "4              224                 No  "
            ],
            "text/html": [
              "\n",
              "  <div id=\"df-6115866c-02cb-461d-bf86-cec2e00ef808\">\n",
              "    <div class=\"colab-df-container\">\n",
              "      <div>\n",
              "<style scoped>\n",
              "    .dataframe tbody tr th:only-of-type {\n",
              "        vertical-align: middle;\n",
              "    }\n",
              "\n",
              "    .dataframe tbody tr th {\n",
              "        vertical-align: top;\n",
              "    }\n",
              "\n",
              "    .dataframe thead th {\n",
              "        text-align: right;\n",
              "    }\n",
              "</style>\n",
              "<table border=\"1\" class=\"dataframe\">\n",
              "  <thead>\n",
              "    <tr style=\"text-align: right;\">\n",
              "      <th></th>\n",
              "      <th>Customer_ID</th>\n",
              "      <th>No_of_orders_placed</th>\n",
              "      <th>Category_of_customers</th>\n",
              "      <th>Maximum_bill</th>\n",
              "      <th>Minimum_bill</th>\n",
              "      <th>Last_order_placed_date</th>\n",
              "      <th>No_of_issues_raised</th>\n",
              "      <th>Customer_rating</th>\n",
              "      <th>Average_food_rating</th>\n",
              "      <th>Average_happiness_rating</th>\n",
              "      <th>Coupon_consumption_status</th>\n",
              "      <th>Coupons_offered</th>\n",
              "      <th>Premium_membership</th>\n",
              "    </tr>\n",
              "  </thead>\n",
              "  <tbody>\n",
              "    <tr>\n",
              "      <th>0</th>\n",
              "      <td>CUS0xfce</td>\n",
              "      <td>92.0</td>\n",
              "      <td>Active</td>\n",
              "      <td>1332.28</td>\n",
              "      <td>238.00</td>\n",
              "      <td>NaN</td>\n",
              "      <td>NaN</td>\n",
              "      <td>NaN</td>\n",
              "      <td>3.0</td>\n",
              "      <td>3</td>\n",
              "      <td>92.0</td>\n",
              "      <td>115</td>\n",
              "      <td>No</td>\n",
              "    </tr>\n",
              "    <tr>\n",
              "      <th>1</th>\n",
              "      <td>CUS0x52e0</td>\n",
              "      <td>197.0</td>\n",
              "      <td>Inactive</td>\n",
              "      <td>2058.34</td>\n",
              "      <td>230.51</td>\n",
              "      <td>02/15/2017 08:14 PM</td>\n",
              "      <td>4.0</td>\n",
              "      <td>5.0</td>\n",
              "      <td>3.0</td>\n",
              "      <td>4</td>\n",
              "      <td>31.0</td>\n",
              "      <td>297</td>\n",
              "      <td>No</td>\n",
              "    </tr>\n",
              "    <tr>\n",
              "      <th>2</th>\n",
              "      <td>CUS0x439c</td>\n",
              "      <td>94.0</td>\n",
              "      <td>Passive</td>\n",
              "      <td>2524.05</td>\n",
              "      <td>232.00</td>\n",
              "      <td>11/21/2019 03:01 AM</td>\n",
              "      <td>36.0</td>\n",
              "      <td>4.0</td>\n",
              "      <td>3.0</td>\n",
              "      <td>4</td>\n",
              "      <td>36.0</td>\n",
              "      <td>119</td>\n",
              "      <td>No</td>\n",
              "    </tr>\n",
              "    <tr>\n",
              "      <th>3</th>\n",
              "      <td>CUS0x7cdc</td>\n",
              "      <td>229.0</td>\n",
              "      <td>Passive</td>\n",
              "      <td>1258.67</td>\n",
              "      <td>266.03</td>\n",
              "      <td>03/24/2018 11:21 PM</td>\n",
              "      <td>12.0</td>\n",
              "      <td>2.0</td>\n",
              "      <td>5.0</td>\n",
              "      <td>4</td>\n",
              "      <td>168.0</td>\n",
              "      <td>337</td>\n",
              "      <td>No</td>\n",
              "    </tr>\n",
              "    <tr>\n",
              "      <th>4</th>\n",
              "      <td>CUS0x59eb</td>\n",
              "      <td>172.0</td>\n",
              "      <td>Passive</td>\n",
              "      <td>2033.03</td>\n",
              "      <td>141.95</td>\n",
              "      <td>08/21/2018 05:48 AM</td>\n",
              "      <td>31.0</td>\n",
              "      <td>4.0</td>\n",
              "      <td>4.0</td>\n",
              "      <td>3</td>\n",
              "      <td>64.0</td>\n",
              "      <td>224</td>\n",
              "      <td>No</td>\n",
              "    </tr>\n",
              "  </tbody>\n",
              "</table>\n",
              "</div>\n",
              "      <button class=\"colab-df-convert\" onclick=\"convertToInteractive('df-6115866c-02cb-461d-bf86-cec2e00ef808')\"\n",
              "              title=\"Convert this dataframe to an interactive table.\"\n",
              "              style=\"display:none;\">\n",
              "        \n",
              "  <svg xmlns=\"http://www.w3.org/2000/svg\" height=\"24px\"viewBox=\"0 0 24 24\"\n",
              "       width=\"24px\">\n",
              "    <path d=\"M0 0h24v24H0V0z\" fill=\"none\"/>\n",
              "    <path d=\"M18.56 5.44l.94 2.06.94-2.06 2.06-.94-2.06-.94-.94-2.06-.94 2.06-2.06.94zm-11 1L8.5 8.5l.94-2.06 2.06-.94-2.06-.94L8.5 2.5l-.94 2.06-2.06.94zm10 10l.94 2.06.94-2.06 2.06-.94-2.06-.94-.94-2.06-.94 2.06-2.06.94z\"/><path d=\"M17.41 7.96l-1.37-1.37c-.4-.4-.92-.59-1.43-.59-.52 0-1.04.2-1.43.59L10.3 9.45l-7.72 7.72c-.78.78-.78 2.05 0 2.83L4 21.41c.39.39.9.59 1.41.59.51 0 1.02-.2 1.41-.59l7.78-7.78 2.81-2.81c.8-.78.8-2.07 0-2.86zM5.41 20L4 18.59l7.72-7.72 1.47 1.35L5.41 20z\"/>\n",
              "  </svg>\n",
              "      </button>\n",
              "      \n",
              "  <style>\n",
              "    .colab-df-container {\n",
              "      display:flex;\n",
              "      flex-wrap:wrap;\n",
              "      gap: 12px;\n",
              "    }\n",
              "\n",
              "    .colab-df-convert {\n",
              "      background-color: #E8F0FE;\n",
              "      border: none;\n",
              "      border-radius: 50%;\n",
              "      cursor: pointer;\n",
              "      display: none;\n",
              "      fill: #1967D2;\n",
              "      height: 32px;\n",
              "      padding: 0 0 0 0;\n",
              "      width: 32px;\n",
              "    }\n",
              "\n",
              "    .colab-df-convert:hover {\n",
              "      background-color: #E2EBFA;\n",
              "      box-shadow: 0px 1px 2px rgba(60, 64, 67, 0.3), 0px 1px 3px 1px rgba(60, 64, 67, 0.15);\n",
              "      fill: #174EA6;\n",
              "    }\n",
              "\n",
              "    [theme=dark] .colab-df-convert {\n",
              "      background-color: #3B4455;\n",
              "      fill: #D2E3FC;\n",
              "    }\n",
              "\n",
              "    [theme=dark] .colab-df-convert:hover {\n",
              "      background-color: #434B5C;\n",
              "      box-shadow: 0px 1px 3px 1px rgba(0, 0, 0, 0.15);\n",
              "      filter: drop-shadow(0px 1px 2px rgba(0, 0, 0, 0.3));\n",
              "      fill: #FFFFFF;\n",
              "    }\n",
              "  </style>\n",
              "\n",
              "      <script>\n",
              "        const buttonEl =\n",
              "          document.querySelector('#df-6115866c-02cb-461d-bf86-cec2e00ef808 button.colab-df-convert');\n",
              "        buttonEl.style.display =\n",
              "          google.colab.kernel.accessAllowed ? 'block' : 'none';\n",
              "\n",
              "        async function convertToInteractive(key) {\n",
              "          const element = document.querySelector('#df-6115866c-02cb-461d-bf86-cec2e00ef808');\n",
              "          const dataTable =\n",
              "            await google.colab.kernel.invokeFunction('convertToInteractive',\n",
              "                                                     [key], {});\n",
              "          if (!dataTable) return;\n",
              "\n",
              "          const docLinkHtml = 'Like what you see? Visit the ' +\n",
              "            '<a target=\"_blank\" href=https://colab.research.google.com/notebooks/data_table.ipynb>data table notebook</a>'\n",
              "            + ' to learn more about interactive tables.';\n",
              "          element.innerHTML = '';\n",
              "          dataTable['output_type'] = 'display_data';\n",
              "          await google.colab.output.renderOutput(dataTable, element);\n",
              "          const docLink = document.createElement('div');\n",
              "          docLink.innerHTML = docLinkHtml;\n",
              "          element.appendChild(docLink);\n",
              "        }\n",
              "      </script>\n",
              "    </div>\n",
              "  </div>\n",
              "  "
            ]
          },
          "metadata": {},
          "execution_count": 120
        }
      ]
    },
    {
      "cell_type": "code",
      "source": [
        "print(trainorg.shape)\n",
        "print(testorg.shape)"
      ],
      "metadata": {
        "colab": {
          "base_uri": "https://localhost:8080/"
        },
        "id": "11vY3Af1IFx-",
        "outputId": "4b947d70-8b0e-4ab3-c27f-fb7e1a4d4bc1"
      },
      "execution_count": 121,
      "outputs": [
        {
          "output_type": "stream",
          "name": "stdout",
          "text": [
            "(19978, 14)\n",
            "(13319, 13)\n"
          ]
        }
      ]
    },
    {
      "cell_type": "code",
      "source": [
        "trainorg.describe()"
      ],
      "metadata": {
        "colab": {
          "base_uri": "https://localhost:8080/",
          "height": 364
        },
        "id": "QwB4VSyPII91",
        "outputId": "7a596486-4790-4272-9c30-f42dc1b1ffcb"
      },
      "execution_count": 122,
      "outputs": [
        {
          "output_type": "execute_result",
          "data": {
            "text/plain": [
              "       No_of_orders_placed  Maximum_bill  Minimum_bill  No_of_issues_raised  \\\n",
              "count         18266.000000  19855.000000  19978.000000         18323.000000   \n",
              "mean            127.566846   1942.375764    173.450944            28.192436   \n",
              "std              71.060363    927.750237    107.102356            17.178560   \n",
              "min               5.000000    295.540000    -99.000000             0.000000   \n",
              "25%              66.000000   1150.420000    122.490000            13.000000   \n",
              "50%             127.000000   1908.210000    183.755000            27.000000   \n",
              "75%             190.000000   2669.200000    247.000000            43.000000   \n",
              "max             250.000000   3693.940000    345.000000            60.000000   \n",
              "\n",
              "       Customer_rating  Average_food_rating  Average_happiness_rating  \\\n",
              "count     17826.000000         19738.000000              19978.000000   \n",
              "mean          3.868843             3.700426                  3.676744   \n",
              "std           0.643245             0.838527                  0.844121   \n",
              "min           2.000000             1.000000                  2.000000   \n",
              "25%           4.000000             3.000000                  3.000000   \n",
              "50%           4.000000             4.000000                  4.000000   \n",
              "75%           4.000000             4.000000                  4.000000   \n",
              "max           5.000000             5.000000                  7.000000   \n",
              "\n",
              "       Coupon_consumption_status  Coupons_offered  Discount_percentage  \n",
              "count               19749.000000     19978.000000         19738.000000  \n",
              "mean                   74.569041       185.180749            36.724997  \n",
              "std                    41.973849        97.768825            17.715472  \n",
              "min                     5.000000        15.000000           -99.000000  \n",
              "25%                    40.000000        89.000000            31.000000  \n",
              "50%                    69.000000       206.000000            39.000000  \n",
              "75%                   105.000000       269.000000            46.000000  \n",
              "max                   170.000000       368.000000            59.000000  "
            ],
            "text/html": [
              "\n",
              "  <div id=\"df-c33e53d8-9aa2-4046-afc7-96e32a61a2b7\">\n",
              "    <div class=\"colab-df-container\">\n",
              "      <div>\n",
              "<style scoped>\n",
              "    .dataframe tbody tr th:only-of-type {\n",
              "        vertical-align: middle;\n",
              "    }\n",
              "\n",
              "    .dataframe tbody tr th {\n",
              "        vertical-align: top;\n",
              "    }\n",
              "\n",
              "    .dataframe thead th {\n",
              "        text-align: right;\n",
              "    }\n",
              "</style>\n",
              "<table border=\"1\" class=\"dataframe\">\n",
              "  <thead>\n",
              "    <tr style=\"text-align: right;\">\n",
              "      <th></th>\n",
              "      <th>No_of_orders_placed</th>\n",
              "      <th>Maximum_bill</th>\n",
              "      <th>Minimum_bill</th>\n",
              "      <th>No_of_issues_raised</th>\n",
              "      <th>Customer_rating</th>\n",
              "      <th>Average_food_rating</th>\n",
              "      <th>Average_happiness_rating</th>\n",
              "      <th>Coupon_consumption_status</th>\n",
              "      <th>Coupons_offered</th>\n",
              "      <th>Discount_percentage</th>\n",
              "    </tr>\n",
              "  </thead>\n",
              "  <tbody>\n",
              "    <tr>\n",
              "      <th>count</th>\n",
              "      <td>18266.000000</td>\n",
              "      <td>19855.000000</td>\n",
              "      <td>19978.000000</td>\n",
              "      <td>18323.000000</td>\n",
              "      <td>17826.000000</td>\n",
              "      <td>19738.000000</td>\n",
              "      <td>19978.000000</td>\n",
              "      <td>19749.000000</td>\n",
              "      <td>19978.000000</td>\n",
              "      <td>19738.000000</td>\n",
              "    </tr>\n",
              "    <tr>\n",
              "      <th>mean</th>\n",
              "      <td>127.566846</td>\n",
              "      <td>1942.375764</td>\n",
              "      <td>173.450944</td>\n",
              "      <td>28.192436</td>\n",
              "      <td>3.868843</td>\n",
              "      <td>3.700426</td>\n",
              "      <td>3.676744</td>\n",
              "      <td>74.569041</td>\n",
              "      <td>185.180749</td>\n",
              "      <td>36.724997</td>\n",
              "    </tr>\n",
              "    <tr>\n",
              "      <th>std</th>\n",
              "      <td>71.060363</td>\n",
              "      <td>927.750237</td>\n",
              "      <td>107.102356</td>\n",
              "      <td>17.178560</td>\n",
              "      <td>0.643245</td>\n",
              "      <td>0.838527</td>\n",
              "      <td>0.844121</td>\n",
              "      <td>41.973849</td>\n",
              "      <td>97.768825</td>\n",
              "      <td>17.715472</td>\n",
              "    </tr>\n",
              "    <tr>\n",
              "      <th>min</th>\n",
              "      <td>5.000000</td>\n",
              "      <td>295.540000</td>\n",
              "      <td>-99.000000</td>\n",
              "      <td>0.000000</td>\n",
              "      <td>2.000000</td>\n",
              "      <td>1.000000</td>\n",
              "      <td>2.000000</td>\n",
              "      <td>5.000000</td>\n",
              "      <td>15.000000</td>\n",
              "      <td>-99.000000</td>\n",
              "    </tr>\n",
              "    <tr>\n",
              "      <th>25%</th>\n",
              "      <td>66.000000</td>\n",
              "      <td>1150.420000</td>\n",
              "      <td>122.490000</td>\n",
              "      <td>13.000000</td>\n",
              "      <td>4.000000</td>\n",
              "      <td>3.000000</td>\n",
              "      <td>3.000000</td>\n",
              "      <td>40.000000</td>\n",
              "      <td>89.000000</td>\n",
              "      <td>31.000000</td>\n",
              "    </tr>\n",
              "    <tr>\n",
              "      <th>50%</th>\n",
              "      <td>127.000000</td>\n",
              "      <td>1908.210000</td>\n",
              "      <td>183.755000</td>\n",
              "      <td>27.000000</td>\n",
              "      <td>4.000000</td>\n",
              "      <td>4.000000</td>\n",
              "      <td>4.000000</td>\n",
              "      <td>69.000000</td>\n",
              "      <td>206.000000</td>\n",
              "      <td>39.000000</td>\n",
              "    </tr>\n",
              "    <tr>\n",
              "      <th>75%</th>\n",
              "      <td>190.000000</td>\n",
              "      <td>2669.200000</td>\n",
              "      <td>247.000000</td>\n",
              "      <td>43.000000</td>\n",
              "      <td>4.000000</td>\n",
              "      <td>4.000000</td>\n",
              "      <td>4.000000</td>\n",
              "      <td>105.000000</td>\n",
              "      <td>269.000000</td>\n",
              "      <td>46.000000</td>\n",
              "    </tr>\n",
              "    <tr>\n",
              "      <th>max</th>\n",
              "      <td>250.000000</td>\n",
              "      <td>3693.940000</td>\n",
              "      <td>345.000000</td>\n",
              "      <td>60.000000</td>\n",
              "      <td>5.000000</td>\n",
              "      <td>5.000000</td>\n",
              "      <td>7.000000</td>\n",
              "      <td>170.000000</td>\n",
              "      <td>368.000000</td>\n",
              "      <td>59.000000</td>\n",
              "    </tr>\n",
              "  </tbody>\n",
              "</table>\n",
              "</div>\n",
              "      <button class=\"colab-df-convert\" onclick=\"convertToInteractive('df-c33e53d8-9aa2-4046-afc7-96e32a61a2b7')\"\n",
              "              title=\"Convert this dataframe to an interactive table.\"\n",
              "              style=\"display:none;\">\n",
              "        \n",
              "  <svg xmlns=\"http://www.w3.org/2000/svg\" height=\"24px\"viewBox=\"0 0 24 24\"\n",
              "       width=\"24px\">\n",
              "    <path d=\"M0 0h24v24H0V0z\" fill=\"none\"/>\n",
              "    <path d=\"M18.56 5.44l.94 2.06.94-2.06 2.06-.94-2.06-.94-.94-2.06-.94 2.06-2.06.94zm-11 1L8.5 8.5l.94-2.06 2.06-.94-2.06-.94L8.5 2.5l-.94 2.06-2.06.94zm10 10l.94 2.06.94-2.06 2.06-.94-2.06-.94-.94-2.06-.94 2.06-2.06.94z\"/><path d=\"M17.41 7.96l-1.37-1.37c-.4-.4-.92-.59-1.43-.59-.52 0-1.04.2-1.43.59L10.3 9.45l-7.72 7.72c-.78.78-.78 2.05 0 2.83L4 21.41c.39.39.9.59 1.41.59.51 0 1.02-.2 1.41-.59l7.78-7.78 2.81-2.81c.8-.78.8-2.07 0-2.86zM5.41 20L4 18.59l7.72-7.72 1.47 1.35L5.41 20z\"/>\n",
              "  </svg>\n",
              "      </button>\n",
              "      \n",
              "  <style>\n",
              "    .colab-df-container {\n",
              "      display:flex;\n",
              "      flex-wrap:wrap;\n",
              "      gap: 12px;\n",
              "    }\n",
              "\n",
              "    .colab-df-convert {\n",
              "      background-color: #E8F0FE;\n",
              "      border: none;\n",
              "      border-radius: 50%;\n",
              "      cursor: pointer;\n",
              "      display: none;\n",
              "      fill: #1967D2;\n",
              "      height: 32px;\n",
              "      padding: 0 0 0 0;\n",
              "      width: 32px;\n",
              "    }\n",
              "\n",
              "    .colab-df-convert:hover {\n",
              "      background-color: #E2EBFA;\n",
              "      box-shadow: 0px 1px 2px rgba(60, 64, 67, 0.3), 0px 1px 3px 1px rgba(60, 64, 67, 0.15);\n",
              "      fill: #174EA6;\n",
              "    }\n",
              "\n",
              "    [theme=dark] .colab-df-convert {\n",
              "      background-color: #3B4455;\n",
              "      fill: #D2E3FC;\n",
              "    }\n",
              "\n",
              "    [theme=dark] .colab-df-convert:hover {\n",
              "      background-color: #434B5C;\n",
              "      box-shadow: 0px 1px 3px 1px rgba(0, 0, 0, 0.15);\n",
              "      filter: drop-shadow(0px 1px 2px rgba(0, 0, 0, 0.3));\n",
              "      fill: #FFFFFF;\n",
              "    }\n",
              "  </style>\n",
              "\n",
              "      <script>\n",
              "        const buttonEl =\n",
              "          document.querySelector('#df-c33e53d8-9aa2-4046-afc7-96e32a61a2b7 button.colab-df-convert');\n",
              "        buttonEl.style.display =\n",
              "          google.colab.kernel.accessAllowed ? 'block' : 'none';\n",
              "\n",
              "        async function convertToInteractive(key) {\n",
              "          const element = document.querySelector('#df-c33e53d8-9aa2-4046-afc7-96e32a61a2b7');\n",
              "          const dataTable =\n",
              "            await google.colab.kernel.invokeFunction('convertToInteractive',\n",
              "                                                     [key], {});\n",
              "          if (!dataTable) return;\n",
              "\n",
              "          const docLinkHtml = 'Like what you see? Visit the ' +\n",
              "            '<a target=\"_blank\" href=https://colab.research.google.com/notebooks/data_table.ipynb>data table notebook</a>'\n",
              "            + ' to learn more about interactive tables.';\n",
              "          element.innerHTML = '';\n",
              "          dataTable['output_type'] = 'display_data';\n",
              "          await google.colab.output.renderOutput(dataTable, element);\n",
              "          const docLink = document.createElement('div');\n",
              "          docLink.innerHTML = docLinkHtml;\n",
              "          element.appendChild(docLink);\n",
              "        }\n",
              "      </script>\n",
              "    </div>\n",
              "  </div>\n",
              "  "
            ]
          },
          "metadata": {},
          "execution_count": 122
        }
      ]
    },
    {
      "cell_type": "code",
      "source": [
        "trainorg.info()"
      ],
      "metadata": {
        "colab": {
          "base_uri": "https://localhost:8080/"
        },
        "id": "MdW-DuTxIrEn",
        "outputId": "7296cc83-c8c8-4bb0-f49d-6e7e98a26dae"
      },
      "execution_count": 123,
      "outputs": [
        {
          "output_type": "stream",
          "name": "stdout",
          "text": [
            "<class 'pandas.core.frame.DataFrame'>\n",
            "RangeIndex: 19978 entries, 0 to 19977\n",
            "Data columns (total 14 columns):\n",
            " #   Column                     Non-Null Count  Dtype  \n",
            "---  ------                     --------------  -----  \n",
            " 0   Customer_ID                19978 non-null  object \n",
            " 1   No_of_orders_placed        18266 non-null  float64\n",
            " 2   Category_of_customers      18858 non-null  object \n",
            " 3   Maximum_bill               19855 non-null  float64\n",
            " 4   Minimum_bill               19978 non-null  float64\n",
            " 5   Last_order_placed_date     16887 non-null  object \n",
            " 6   No_of_issues_raised        18323 non-null  float64\n",
            " 7   Customer_rating            17826 non-null  float64\n",
            " 8   Average_food_rating        19738 non-null  float64\n",
            " 9   Average_happiness_rating   19978 non-null  int64  \n",
            " 10  Coupon_consumption_status  19749 non-null  float64\n",
            " 11  Coupons_offered            19978 non-null  int64  \n",
            " 12  Premium_membership         19978 non-null  object \n",
            " 13  Discount_percentage        19738 non-null  float64\n",
            "dtypes: float64(8), int64(2), object(4)\n",
            "memory usage: 2.1+ MB\n"
          ]
        }
      ]
    },
    {
      "cell_type": "code",
      "source": [
        "trainorg.isna().sum()"
      ],
      "metadata": {
        "colab": {
          "base_uri": "https://localhost:8080/"
        },
        "id": "OuT4WhqUIsBd",
        "outputId": "bad011ab-9997-4eda-f53e-f40dc6391eeb"
      },
      "execution_count": 124,
      "outputs": [
        {
          "output_type": "execute_result",
          "data": {
            "text/plain": [
              "Customer_ID                     0\n",
              "No_of_orders_placed          1712\n",
              "Category_of_customers        1120\n",
              "Maximum_bill                  123\n",
              "Minimum_bill                    0\n",
              "Last_order_placed_date       3091\n",
              "No_of_issues_raised          1655\n",
              "Customer_rating              2152\n",
              "Average_food_rating           240\n",
              "Average_happiness_rating        0\n",
              "Coupon_consumption_status     229\n",
              "Coupons_offered                 0\n",
              "Premium_membership              0\n",
              "Discount_percentage           240\n",
              "dtype: int64"
            ]
          },
          "metadata": {},
          "execution_count": 124
        }
      ]
    },
    {
      "cell_type": "code",
      "source": [
        "trainorg['Category_of_customers'].value_counts()"
      ],
      "metadata": {
        "colab": {
          "base_uri": "https://localhost:8080/"
        },
        "id": "zlj9eKLLJLCQ",
        "outputId": "badcd216-df53-4c1e-cb3c-9118924ee57d"
      },
      "execution_count": 125,
      "outputs": [
        {
          "output_type": "execute_result",
          "data": {
            "text/plain": [
              "Inactive    8456\n",
              "Passive     6411\n",
              "Active      3752\n",
              "0            239\n",
              "Name: Category_of_customers, dtype: int64"
            ]
          },
          "metadata": {},
          "execution_count": 125
        }
      ]
    },
    {
      "cell_type": "code",
      "source": [
        "trainorg['Premium_membership'].value_counts()"
      ],
      "metadata": {
        "colab": {
          "base_uri": "https://localhost:8080/"
        },
        "id": "XKpwM7AaJPbv",
        "outputId": "f7a82be1-4ecd-40d6-e20e-9bbf00f8e84d"
      },
      "execution_count": 126,
      "outputs": [
        {
          "output_type": "execute_result",
          "data": {
            "text/plain": [
              "No     15109\n",
              "Yes     3738\n",
              "0       1131\n",
              "Name: Premium_membership, dtype: int64"
            ]
          },
          "metadata": {},
          "execution_count": 126
        }
      ]
    },
    {
      "cell_type": "markdown",
      "source": [
        "# **PreProcessing**"
      ],
      "metadata": {
        "id": "XSQEDUjWJc36"
      }
    },
    {
      "cell_type": "code",
      "source": [
        "#checking for null values\n",
        "trainorg.isna().sum()"
      ],
      "metadata": {
        "colab": {
          "base_uri": "https://localhost:8080/"
        },
        "id": "1PLZatJQJf71",
        "outputId": "bbe1ff17-50f7-4399-b736-fba25a2999ab"
      },
      "execution_count": 127,
      "outputs": [
        {
          "output_type": "execute_result",
          "data": {
            "text/plain": [
              "Customer_ID                     0\n",
              "No_of_orders_placed          1712\n",
              "Category_of_customers        1120\n",
              "Maximum_bill                  123\n",
              "Minimum_bill                    0\n",
              "Last_order_placed_date       3091\n",
              "No_of_issues_raised          1655\n",
              "Customer_rating              2152\n",
              "Average_food_rating           240\n",
              "Average_happiness_rating        0\n",
              "Coupon_consumption_status     229\n",
              "Coupons_offered                 0\n",
              "Premium_membership              0\n",
              "Discount_percentage           240\n",
              "dtype: int64"
            ]
          },
          "metadata": {},
          "execution_count": 127
        }
      ]
    },
    {
      "cell_type": "code",
      "source": [
        "trainorg['No_of_orders_placed'].value_counts()"
      ],
      "metadata": {
        "colab": {
          "base_uri": "https://localhost:8080/"
        },
        "id": "YWwtnLYkK82Q",
        "outputId": "8d77e01e-266d-4710-8b6e-68546434f22f"
      },
      "execution_count": 128,
      "outputs": [
        {
          "output_type": "execute_result",
          "data": {
            "text/plain": [
              "43.0     104\n",
              "97.0      96\n",
              "54.0      94\n",
              "211.0     93\n",
              "216.0     91\n",
              "        ... \n",
              "175.0     57\n",
              "182.0     57\n",
              "192.0     57\n",
              "84.0      55\n",
              "68.0      53\n",
              "Name: No_of_orders_placed, Length: 246, dtype: int64"
            ]
          },
          "metadata": {},
          "execution_count": 128
        }
      ]
    },
    {
      "cell_type": "code",
      "source": [
        "trainorg['No_of_orders_placed'].min()"
      ],
      "metadata": {
        "colab": {
          "base_uri": "https://localhost:8080/"
        },
        "id": "tRLMNLZfLEKG",
        "outputId": "2ec0f99b-1127-4207-9102-e44d1d1890ac"
      },
      "execution_count": 129,
      "outputs": [
        {
          "output_type": "execute_result",
          "data": {
            "text/plain": [
              "5.0"
            ]
          },
          "metadata": {},
          "execution_count": 129
        }
      ]
    },
    {
      "cell_type": "code",
      "source": [
        "trainorg['No_of_orders_placed'].max()"
      ],
      "metadata": {
        "colab": {
          "base_uri": "https://localhost:8080/"
        },
        "id": "tX3kTh1fLKQl",
        "outputId": "af2f22a0-b29e-45b0-fbf7-bdf05927c4e2"
      },
      "execution_count": 130,
      "outputs": [
        {
          "output_type": "execute_result",
          "data": {
            "text/plain": [
              "250.0"
            ]
          },
          "metadata": {},
          "execution_count": 130
        }
      ]
    },
    {
      "cell_type": "code",
      "source": [
        "#plotting the weight graph to see the skew\n",
        "plt.hist(trainorg['No_of_orders_placed'])\n",
        "plt.title('No_of_orders_placed')"
      ],
      "metadata": {
        "colab": {
          "base_uri": "https://localhost:8080/",
          "height": 298
        },
        "id": "hbp9J3JaLM4C",
        "outputId": "5c858293-60f5-499a-a6a8-f62dab27f503"
      },
      "execution_count": 131,
      "outputs": [
        {
          "output_type": "execute_result",
          "data": {
            "text/plain": [
              "Text(0.5, 1.0, 'No_of_orders_placed')"
            ]
          },
          "metadata": {},
          "execution_count": 131
        },
        {
          "output_type": "display_data",
          "data": {
            "text/plain": [
              "<Figure size 432x288 with 1 Axes>"
            ],
            "image/png": "[encoded data removed]"
          },
          "metadata": {
            "needs_background": "light"
          }
        }
      ]
    },
    {
      "cell_type": "code",
      "source": [
        "sns.boxplot(trainorg.No_of_orders_placed)"
      ],
      "metadata": {
        "colab": {
          "base_uri": "https://localhost:8080/",
          "height": 352
        },
        "id": "yDcm3gMfLRIT",
        "outputId": "b7712f82-7df7-4ce8-a33a-c3a2a0216a57"
      },
      "execution_count": 132,
      "outputs": [
        {
          "output_type": "stream",
          "name": "stderr",
          "text": [
            "/usr/local/lib/python3.8/dist-packages/seaborn/_decorators.py:36: FutureWarning: Pass the following variable as a keyword arg: x. From version 0.12, the only valid positional argument will be `data`, and passing other arguments without an explicit keyword will result in an error or misinterpretation.\n",
            "  warnings.warn(\n"
          ]
        },
        {
          "output_type": "execute_result",
          "data": {
            "text/plain": [
              "<matplotlib.axes._subplots.AxesSubplot at 0x7f306e89e310>"
            ]
          },
          "metadata": {},
          "execution_count": 132
        },
        {
          "output_type": "display_data",
          "data": {
            "text/plain": [
              "<Figure size 432x288 with 1 Axes>"
            ],
            "image/png": "[encoded data removed]"
          },
          "metadata": {
            "needs_background": "light"
          }
        }
      ]
    },
    {
      "cell_type": "code",
      "source": [
        "trainorg['No_of_orders_placed'].fillna(trainorg['No_of_orders_placed'].mean(),inplace=True)"
      ],
      "metadata": {
        "id": "RZ0V4j86LdXl"
      },
      "execution_count": 133,
      "outputs": []
    },
    {
      "cell_type": "code",
      "source": [
        "trainorg.isna().sum()"
      ],
      "metadata": {
        "colab": {
          "base_uri": "https://localhost:8080/"
        },
        "id": "9NI1Eh-6LnmJ",
        "outputId": "525eabd0-bcb3-4ada-ac2d-c3f2142b9eb7"
      },
      "execution_count": 134,
      "outputs": [
        {
          "output_type": "execute_result",
          "data": {
            "text/plain": [
              "Customer_ID                     0\n",
              "No_of_orders_placed             0\n",
              "Category_of_customers        1120\n",
              "Maximum_bill                  123\n",
              "Minimum_bill                    0\n",
              "Last_order_placed_date       3091\n",
              "No_of_issues_raised          1655\n",
              "Customer_rating              2152\n",
              "Average_food_rating           240\n",
              "Average_happiness_rating        0\n",
              "Coupon_consumption_status     229\n",
              "Coupons_offered                 0\n",
              "Premium_membership              0\n",
              "Discount_percentage           240\n",
              "dtype: int64"
            ]
          },
          "metadata": {},
          "execution_count": 134
        }
      ]
    },
    {
      "cell_type": "code",
      "source": [
        "trainorg['Category_of_customers'].value_counts()"
      ],
      "metadata": {
        "colab": {
          "base_uri": "https://localhost:8080/"
        },
        "id": "6ato0ncmLyCv",
        "outputId": "10cab418-4f06-48f5-8a65-fc1dd50400c5"
      },
      "execution_count": 135,
      "outputs": [
        {
          "output_type": "execute_result",
          "data": {
            "text/plain": [
              "Inactive    8456\n",
              "Passive     6411\n",
              "Active      3752\n",
              "0            239\n",
              "Name: Category_of_customers, dtype: int64"
            ]
          },
          "metadata": {},
          "execution_count": 135
        }
      ]
    },
    {
      "cell_type": "code",
      "source": [
        "trainorg['Category_of_customers'].fillna('Inactive',inplace=True)"
      ],
      "metadata": {
        "id": "iFwwiTouNsZi"
      },
      "execution_count": 136,
      "outputs": []
    },
    {
      "cell_type": "code",
      "source": [
        "trainorg.isna().sum()"
      ],
      "metadata": {
        "colab": {
          "base_uri": "https://localhost:8080/"
        },
        "id": "bJUYEFY0OBBr",
        "outputId": "6b36558f-e6f2-4e01-c9ec-bf5c1fa0f555"
      },
      "execution_count": 137,
      "outputs": [
        {
          "output_type": "execute_result",
          "data": {
            "text/plain": [
              "Customer_ID                     0\n",
              "No_of_orders_placed             0\n",
              "Category_of_customers           0\n",
              "Maximum_bill                  123\n",
              "Minimum_bill                    0\n",
              "Last_order_placed_date       3091\n",
              "No_of_issues_raised          1655\n",
              "Customer_rating              2152\n",
              "Average_food_rating           240\n",
              "Average_happiness_rating        0\n",
              "Coupon_consumption_status     229\n",
              "Coupons_offered                 0\n",
              "Premium_membership              0\n",
              "Discount_percentage           240\n",
              "dtype: int64"
            ]
          },
          "metadata": {},
          "execution_count": 137
        }
      ]
    },
    {
      "cell_type": "code",
      "source": [
        "trainorg['Category_of_customers'].value_counts()"
      ],
      "metadata": {
        "colab": {
          "base_uri": "https://localhost:8080/"
        },
        "id": "SyqfPDR4OCzQ",
        "outputId": "93392762-5b85-4d60-8aa3-b46942cd3d9b"
      },
      "execution_count": 138,
      "outputs": [
        {
          "output_type": "execute_result",
          "data": {
            "text/plain": [
              "Inactive    9576\n",
              "Passive     6411\n",
              "Active      3752\n",
              "0            239\n",
              "Name: Category_of_customers, dtype: int64"
            ]
          },
          "metadata": {},
          "execution_count": 138
        }
      ]
    },
    {
      "cell_type": "code",
      "source": [
        "trainorg.shape"
      ],
      "metadata": {
        "colab": {
          "base_uri": "https://localhost:8080/"
        },
        "id": "xLu-FUqLOEpC",
        "outputId": "3ef43022-473c-4064-fe91-78f513b7379c"
      },
      "execution_count": 139,
      "outputs": [
        {
          "output_type": "execute_result",
          "data": {
            "text/plain": [
              "(19978, 14)"
            ]
          },
          "metadata": {},
          "execution_count": 139
        }
      ]
    },
    {
      "cell_type": "code",
      "source": [
        "\n",
        "# Replace values of columns by using DataFrame.loc[] property.\n",
        "trainorg.loc[trainorg['Category_of_customers'] == '0', 'Category_of_customers'] = 'Inactive'\n"
      ],
      "metadata": {
        "id": "mpG6K1l3OSAa"
      },
      "execution_count": 140,
      "outputs": []
    },
    {
      "cell_type": "code",
      "source": [
        "trainorg['Category_of_customers'].value_counts()"
      ],
      "metadata": {
        "colab": {
          "base_uri": "https://localhost:8080/"
        },
        "id": "lL16GiojP7oh",
        "outputId": "6e69c23c-aa63-42ba-ba20-a4756b1f849b"
      },
      "execution_count": 141,
      "outputs": [
        {
          "output_type": "execute_result",
          "data": {
            "text/plain": [
              "Inactive    9815\n",
              "Passive     6411\n",
              "Active      3752\n",
              "Name: Category_of_customers, dtype: int64"
            ]
          },
          "metadata": {},
          "execution_count": 141
        }
      ]
    },
    {
      "cell_type": "code",
      "source": [
        "trainorg.isna().sum()"
      ],
      "metadata": {
        "colab": {
          "base_uri": "https://localhost:8080/"
        },
        "id": "W95j-U0LP9PK",
        "outputId": "72da6db1-66ea-414c-bdfd-eb413e29c2c2"
      },
      "execution_count": 142,
      "outputs": [
        {
          "output_type": "execute_result",
          "data": {
            "text/plain": [
              "Customer_ID                     0\n",
              "No_of_orders_placed             0\n",
              "Category_of_customers           0\n",
              "Maximum_bill                  123\n",
              "Minimum_bill                    0\n",
              "Last_order_placed_date       3091\n",
              "No_of_issues_raised          1655\n",
              "Customer_rating              2152\n",
              "Average_food_rating           240\n",
              "Average_happiness_rating        0\n",
              "Coupon_consumption_status     229\n",
              "Coupons_offered                 0\n",
              "Premium_membership              0\n",
              "Discount_percentage           240\n",
              "dtype: int64"
            ]
          },
          "metadata": {},
          "execution_count": 142
        }
      ]
    },
    {
      "cell_type": "code",
      "source": [
        "#plotting the weight graph to see the skew\n",
        "plt.hist(trainorg['Maximum_bill'])\n",
        "plt.title('Maximum_bill')"
      ],
      "metadata": {
        "colab": {
          "base_uri": "https://localhost:8080/",
          "height": 298
        },
        "id": "aSOtSrahQD_h",
        "outputId": "d2fe0354-d757-4d70-d34a-8ca8d18c35af"
      },
      "execution_count": 143,
      "outputs": [
        {
          "output_type": "execute_result",
          "data": {
            "text/plain": [
              "Text(0.5, 1.0, 'Maximum_bill')"
            ]
          },
          "metadata": {},
          "execution_count": 143
        },
        {
          "output_type": "display_data",
          "data": {
            "text/plain": [
              "<Figure size 432x288 with 1 Axes>"
            ],
            "image/png": "[encoded data removed]"
          },
          "metadata": {
            "needs_background": "light"
          }
        }
      ]
    },
    {
      "cell_type": "code",
      "source": [
        "sns.boxplot(trainorg.Maximum_bill)"
      ],
      "metadata": {
        "colab": {
          "base_uri": "https://localhost:8080/",
          "height": 352
        },
        "id": "XhP-q4zgQZdV",
        "outputId": "280f5c6f-049d-44ce-8c7b-ef88941bafbf"
      },
      "execution_count": 144,
      "outputs": [
        {
          "output_type": "stream",
          "name": "stderr",
          "text": [
            "/usr/local/lib/python3.8/dist-packages/seaborn/_decorators.py:36: FutureWarning: Pass the following variable as a keyword arg: x. From version 0.12, the only valid positional argument will be `data`, and passing other arguments without an explicit keyword will result in an error or misinterpretation.\n",
            "  warnings.warn(\n"
          ]
        },
        {
          "output_type": "execute_result",
          "data": {
            "text/plain": [
              "<matplotlib.axes._subplots.AxesSubplot at 0x7f306e357fd0>"
            ]
          },
          "metadata": {},
          "execution_count": 144
        },
        {
          "output_type": "display_data",
          "data": {
            "text/plain": [
              "<Figure size 432x288 with 1 Axes>"
            ],
            "image/png": "[encoded data removed]"
          },
          "metadata": {
            "needs_background": "light"
          }
        }
      ]
    },
    {
      "cell_type": "code",
      "source": [
        "trainorg['Maximum_bill'].fillna(trainorg['Maximum_bill'].mean(),inplace=True)"
      ],
      "metadata": {
        "id": "5-SBOVucQQJz"
      },
      "execution_count": 145,
      "outputs": []
    },
    {
      "cell_type": "code",
      "source": [
        "trainorg.isna().sum()"
      ],
      "metadata": {
        "colab": {
          "base_uri": "https://localhost:8080/"
        },
        "id": "_RoDUbVnQTyQ",
        "outputId": "70223be8-60bb-4134-e135-477919ed716e"
      },
      "execution_count": 146,
      "outputs": [
        {
          "output_type": "execute_result",
          "data": {
            "text/plain": [
              "Customer_ID                     0\n",
              "No_of_orders_placed             0\n",
              "Category_of_customers           0\n",
              "Maximum_bill                    0\n",
              "Minimum_bill                    0\n",
              "Last_order_placed_date       3091\n",
              "No_of_issues_raised          1655\n",
              "Customer_rating              2152\n",
              "Average_food_rating           240\n",
              "Average_happiness_rating        0\n",
              "Coupon_consumption_status     229\n",
              "Coupons_offered                 0\n",
              "Premium_membership              0\n",
              "Discount_percentage           240\n",
              "dtype: int64"
            ]
          },
          "metadata": {},
          "execution_count": 146
        }
      ]
    },
    {
      "cell_type": "code",
      "source": [
        "#plotting the weight graph to see the skew\n",
        "plt.hist(trainorg['No_of_issues_raised'])\n",
        "plt.title('No_of_issues_raised')"
      ],
      "metadata": {
        "colab": {
          "base_uri": "https://localhost:8080/",
          "height": 298
        },
        "id": "kNVQL3LfQfLY",
        "outputId": "1e99d3b9-b435-4d6b-9584-c29d093a45c3"
      },
      "execution_count": 147,
      "outputs": [
        {
          "output_type": "execute_result",
          "data": {
            "text/plain": [
              "Text(0.5, 1.0, 'No_of_issues_raised')"
            ]
          },
          "metadata": {},
          "execution_count": 147
        },
        {
          "output_type": "display_data",
          "data": {
            "text/plain": [
              "<Figure size 432x288 with 1 Axes>"
            ],
            "image/png": "[encoded data removed]"
          },
          "metadata": {
            "needs_background": "light"
          }
        }
      ]
    },
    {
      "cell_type": "code",
      "source": [
        "sns.boxplot(trainorg.No_of_issues_raised)"
      ],
      "metadata": {
        "colab": {
          "base_uri": "https://localhost:8080/",
          "height": 352
        },
        "id": "W9BMDOfzQofU",
        "outputId": "a95d9f3b-5e35-4eaa-a649-471c8ea8f51a"
      },
      "execution_count": 148,
      "outputs": [
        {
          "output_type": "stream",
          "name": "stderr",
          "text": [
            "/usr/local/lib/python3.8/dist-packages/seaborn/_decorators.py:36: FutureWarning: Pass the following variable as a keyword arg: x. From version 0.12, the only valid positional argument will be `data`, and passing other arguments without an explicit keyword will result in an error or misinterpretation.\n",
            "  warnings.warn(\n"
          ]
        },
        {
          "output_type": "execute_result",
          "data": {
            "text/plain": [
              "<matplotlib.axes._subplots.AxesSubplot at 0x7f306e2936a0>"
            ]
          },
          "metadata": {},
          "execution_count": 148
        },
        {
          "output_type": "display_data",
          "data": {
            "text/plain": [
              "<Figure size 432x288 with 1 Axes>"
            ],
            "image/png": "[encoded data removed]"
          },
          "metadata": {
            "needs_background": "light"
          }
        }
      ]
    },
    {
      "cell_type": "code",
      "source": [
        "trainorg['No_of_issues_raised'].fillna(trainorg['No_of_issues_raised'].mean(),inplace=True)"
      ],
      "metadata": {
        "id": "TILBPFxfQpy8"
      },
      "execution_count": 149,
      "outputs": []
    },
    {
      "cell_type": "code",
      "source": [
        "trainorg.isna().sum()"
      ],
      "metadata": {
        "colab": {
          "base_uri": "https://localhost:8080/"
        },
        "id": "mrSjfYxVQzzp",
        "outputId": "e46b7cf2-7e0d-45ed-dd5b-97fcca30f3de"
      },
      "execution_count": 150,
      "outputs": [
        {
          "output_type": "execute_result",
          "data": {
            "text/plain": [
              "Customer_ID                     0\n",
              "No_of_orders_placed             0\n",
              "Category_of_customers           0\n",
              "Maximum_bill                    0\n",
              "Minimum_bill                    0\n",
              "Last_order_placed_date       3091\n",
              "No_of_issues_raised             0\n",
              "Customer_rating              2152\n",
              "Average_food_rating           240\n",
              "Average_happiness_rating        0\n",
              "Coupon_consumption_status     229\n",
              "Coupons_offered                 0\n",
              "Premium_membership              0\n",
              "Discount_percentage           240\n",
              "dtype: int64"
            ]
          },
          "metadata": {},
          "execution_count": 150
        }
      ]
    },
    {
      "cell_type": "code",
      "source": [
        "#plotting the weight graph to see the skew\n",
        "plt.hist(trainorg['Customer_rating'])\n",
        "plt.title('Customer_rating')"
      ],
      "metadata": {
        "colab": {
          "base_uri": "https://localhost:8080/",
          "height": 298
        },
        "id": "Kvgt0ddORDmc",
        "outputId": "f6cf3a11-9d99-42f1-fa92-5cb99c6dcd8e"
      },
      "execution_count": 151,
      "outputs": [
        {
          "output_type": "execute_result",
          "data": {
            "text/plain": [
              "Text(0.5, 1.0, 'Customer_rating')"
            ]
          },
          "metadata": {},
          "execution_count": 151
        },
        {
          "output_type": "display_data",
          "data": {
            "text/plain": [
              "<Figure size 432x288 with 1 Axes>"
            ],
            "image/png": "[encoded data removed]"
          },
          "metadata": {
            "needs_background": "light"
          }
        }
      ]
    },
    {
      "cell_type": "code",
      "source": [
        "trainorg['Customer_rating'].value_counts()"
      ],
      "metadata": {
        "colab": {
          "base_uri": "https://localhost:8080/"
        },
        "id": "uXBzzjqVRNhu",
        "outputId": "bec0cabb-4c28-46b0-a21d-f3c3850712bf"
      },
      "execution_count": 152,
      "outputs": [
        {
          "output_type": "execute_result",
          "data": {
            "text/plain": [
              "4.0    12871\n",
              "3.0     2283\n",
              "5.0     1763\n",
              "2.0      909\n",
              "Name: Customer_rating, dtype: int64"
            ]
          },
          "metadata": {},
          "execution_count": 152
        }
      ]
    },
    {
      "cell_type": "code",
      "source": [
        "trainorg['Customer_rating'].fillna(4.0,inplace=True)"
      ],
      "metadata": {
        "id": "6qxKWUuHRVDx"
      },
      "execution_count": 153,
      "outputs": []
    },
    {
      "cell_type": "code",
      "source": [
        "trainorg.isna().sum()"
      ],
      "metadata": {
        "colab": {
          "base_uri": "https://localhost:8080/"
        },
        "id": "dbRByif8RaWq",
        "outputId": "01e858e7-0cd5-4edd-f7bc-9be061ee6882"
      },
      "execution_count": 154,
      "outputs": [
        {
          "output_type": "execute_result",
          "data": {
            "text/plain": [
              "Customer_ID                     0\n",
              "No_of_orders_placed             0\n",
              "Category_of_customers           0\n",
              "Maximum_bill                    0\n",
              "Minimum_bill                    0\n",
              "Last_order_placed_date       3091\n",
              "No_of_issues_raised             0\n",
              "Customer_rating                 0\n",
              "Average_food_rating           240\n",
              "Average_happiness_rating        0\n",
              "Coupon_consumption_status     229\n",
              "Coupons_offered                 0\n",
              "Premium_membership              0\n",
              "Discount_percentage           240\n",
              "dtype: int64"
            ]
          },
          "metadata": {},
          "execution_count": 154
        }
      ]
    },
    {
      "cell_type": "code",
      "source": [
        "#plotting the weight graph to see the skew\n",
        "plt.hist(trainorg['Average_food_rating'])\n",
        "plt.title('Average_food_rating')"
      ],
      "metadata": {
        "colab": {
          "base_uri": "https://localhost:8080/",
          "height": 298
        },
        "id": "tbXn3nYiRgIu",
        "outputId": "ff283866-0d65-4452-f131-ab9d4441a255"
      },
      "execution_count": 155,
      "outputs": [
        {
          "output_type": "execute_result",
          "data": {
            "text/plain": [
              "Text(0.5, 1.0, 'Average_food_rating')"
            ]
          },
          "metadata": {},
          "execution_count": 155
        },
        {
          "output_type": "display_data",
          "data": {
            "text/plain": [
              "<Figure size 432x288 with 1 Axes>"
            ],
            "image/png": "[encoded data removed]"
          },
          "metadata": {
            "needs_background": "light"
          }
        }
      ]
    },
    {
      "cell_type": "code",
      "source": [
        "trainorg['Average_food_rating'].fillna(4.0,inplace=True)"
      ],
      "metadata": {
        "id": "J8GkgOZ_RlL5"
      },
      "execution_count": 156,
      "outputs": []
    },
    {
      "cell_type": "code",
      "source": [
        "trainorg.isna().sum()"
      ],
      "metadata": {
        "colab": {
          "base_uri": "https://localhost:8080/"
        },
        "id": "uv0AI92WRow8",
        "outputId": "b91310c7-373a-44ff-9d11-84d41c7e6654"
      },
      "execution_count": 157,
      "outputs": [
        {
          "output_type": "execute_result",
          "data": {
            "text/plain": [
              "Customer_ID                     0\n",
              "No_of_orders_placed             0\n",
              "Category_of_customers           0\n",
              "Maximum_bill                    0\n",
              "Minimum_bill                    0\n",
              "Last_order_placed_date       3091\n",
              "No_of_issues_raised             0\n",
              "Customer_rating                 0\n",
              "Average_food_rating             0\n",
              "Average_happiness_rating        0\n",
              "Coupon_consumption_status     229\n",
              "Coupons_offered                 0\n",
              "Premium_membership              0\n",
              "Discount_percentage           240\n",
              "dtype: int64"
            ]
          },
          "metadata": {},
          "execution_count": 157
        }
      ]
    },
    {
      "cell_type": "code",
      "source": [
        "#plotting the weight graph to see the skew\n",
        "plt.hist(trainorg['Coupon_consumption_status'])\n",
        "plt.title('Coupon_consumption_status')"
      ],
      "metadata": {
        "colab": {
          "base_uri": "https://localhost:8080/",
          "height": 298
        },
        "id": "NFbe51KQRrWG",
        "outputId": "1d4c0f4d-1c84-4e96-bdfc-644e53dd9ef6"
      },
      "execution_count": 158,
      "outputs": [
        {
          "output_type": "execute_result",
          "data": {
            "text/plain": [
              "Text(0.5, 1.0, 'Coupon_consumption_status')"
            ]
          },
          "metadata": {},
          "execution_count": 158
        },
        {
          "output_type": "display_data",
          "data": {
            "text/plain": [
              "<Figure size 432x288 with 1 Axes>"
            ],
            "image/png": "[encoded data removed]"
          },
          "metadata": {
            "needs_background": "light"
          }
        }
      ]
    },
    {
      "cell_type": "code",
      "source": [
        "sns.boxplot(trainorg.Coupon_consumption_status)"
      ],
      "metadata": {
        "colab": {
          "base_uri": "https://localhost:8080/",
          "height": 352
        },
        "id": "kObIPFvqSB4U",
        "outputId": "37010bfb-7ccf-4225-b0ec-3431e6a0699e"
      },
      "execution_count": 159,
      "outputs": [
        {
          "output_type": "stream",
          "name": "stderr",
          "text": [
            "/usr/local/lib/python3.8/dist-packages/seaborn/_decorators.py:36: FutureWarning: Pass the following variable as a keyword arg: x. From version 0.12, the only valid positional argument will be `data`, and passing other arguments without an explicit keyword will result in an error or misinterpretation.\n",
            "  warnings.warn(\n"
          ]
        },
        {
          "output_type": "execute_result",
          "data": {
            "text/plain": [
              "<matplotlib.axes._subplots.AxesSubplot at 0x7f306e16cd00>"
            ]
          },
          "metadata": {},
          "execution_count": 159
        },
        {
          "output_type": "display_data",
          "data": {
            "text/plain": [
              "<Figure size 432x288 with 1 Axes>"
            ],
            "image/png": "[encoded data removed]"
          },
          "metadata": {
            "needs_background": "light"
          }
        }
      ]
    },
    {
      "cell_type": "code",
      "source": [
        "trainorg['Coupon_consumption_status'].fillna(trainorg['Coupon_consumption_status'].median(),inplace=True)"
      ],
      "metadata": {
        "id": "VqgdAdUQSHm8"
      },
      "execution_count": 160,
      "outputs": []
    },
    {
      "cell_type": "code",
      "source": [
        "trainorg.isna().sum()"
      ],
      "metadata": {
        "colab": {
          "base_uri": "https://localhost:8080/"
        },
        "id": "C0zBxpLkSMdy",
        "outputId": "8985fafb-605c-4603-a343-b11852c1a555"
      },
      "execution_count": 161,
      "outputs": [
        {
          "output_type": "execute_result",
          "data": {
            "text/plain": [
              "Customer_ID                     0\n",
              "No_of_orders_placed             0\n",
              "Category_of_customers           0\n",
              "Maximum_bill                    0\n",
              "Minimum_bill                    0\n",
              "Last_order_placed_date       3091\n",
              "No_of_issues_raised             0\n",
              "Customer_rating                 0\n",
              "Average_food_rating             0\n",
              "Average_happiness_rating        0\n",
              "Coupon_consumption_status       0\n",
              "Coupons_offered                 0\n",
              "Premium_membership              0\n",
              "Discount_percentage           240\n",
              "dtype: int64"
            ]
          },
          "metadata": {},
          "execution_count": 161
        }
      ]
    },
    {
      "cell_type": "code",
      "source": [
        "#plotting the weight graph to see the skew\n",
        "plt.hist(trainorg['Discount_percentage'])\n",
        "plt.title('Discount_percentage')"
      ],
      "metadata": {
        "colab": {
          "base_uri": "https://localhost:8080/",
          "height": 298
        },
        "id": "HmM5vRpRSOYg",
        "outputId": "66d09982-d8a7-42d7-df40-d84f786a4153"
      },
      "execution_count": 162,
      "outputs": [
        {
          "output_type": "execute_result",
          "data": {
            "text/plain": [
              "Text(0.5, 1.0, 'Discount_percentage')"
            ]
          },
          "metadata": {},
          "execution_count": 162
        },
        {
          "output_type": "display_data",
          "data": {
            "text/plain": [
              "<Figure size 432x288 with 1 Axes>"
            ],
            "image/png": "[encoded data removed]"
          },
          "metadata": {
            "needs_background": "light"
          }
        }
      ]
    },
    {
      "cell_type": "code",
      "source": [
        "sns.boxplot(trainorg.Discount_percentage)"
      ],
      "metadata": {
        "colab": {
          "base_uri": "https://localhost:8080/",
          "height": 352
        },
        "id": "HEy7wRctScD9",
        "outputId": "dabae833-f273-4a62-c36f-341447b3d634"
      },
      "execution_count": 163,
      "outputs": [
        {
          "output_type": "stream",
          "name": "stderr",
          "text": [
            "/usr/local/lib/python3.8/dist-packages/seaborn/_decorators.py:36: FutureWarning: Pass the following variable as a keyword arg: x. From version 0.12, the only valid positional argument will be `data`, and passing other arguments without an explicit keyword will result in an error or misinterpretation.\n",
            "  warnings.warn(\n"
          ]
        },
        {
          "output_type": "execute_result",
          "data": {
            "text/plain": [
              "<matplotlib.axes._subplots.AxesSubplot at 0x7f306dffcb50>"
            ]
          },
          "metadata": {},
          "execution_count": 163
        },
        {
          "output_type": "display_data",
          "data": {
            "text/plain": [
              "<Figure size 432x288 with 1 Axes>"
            ],
            "image/png": "[encoded data removed]"
          },
          "metadata": {
            "needs_background": "light"
          }
        }
      ]
    },
    {
      "cell_type": "code",
      "source": [
        "index = trainorg.loc[trainorg['Discount_percentage'] <=0].index"
      ],
      "metadata": {
        "id": "9BlmCSILSf1m"
      },
      "execution_count": 164,
      "outputs": []
    },
    {
      "cell_type": "code",
      "source": [
        "index"
      ],
      "metadata": {
        "colab": {
          "base_uri": "https://localhost:8080/"
        },
        "id": "LR-_XQVVT9iv",
        "outputId": "2b99630a-71b7-4c09-a511-3748afa478a8"
      },
      "execution_count": 165,
      "outputs": [
        {
          "output_type": "execute_result",
          "data": {
            "text/plain": [
              "Int64Index([   29,    36,    54,   106,   137,   155,   206,   317,   358,\n",
              "              368,\n",
              "            ...\n",
              "            19447, 19476, 19478, 19496, 19594, 19601, 19609, 19677, 19790,\n",
              "            19872],\n",
              "           dtype='int64', length=452)"
            ]
          },
          "metadata": {},
          "execution_count": 165
        }
      ]
    },
    {
      "cell_type": "code",
      "source": [
        "trainorg = trainorg.drop(index)"
      ],
      "metadata": {
        "id": "ioKe4NhzT_fl"
      },
      "execution_count": 166,
      "outputs": []
    },
    {
      "cell_type": "code",
      "source": [
        "sns.boxplot(trainorg.Discount_percentage)"
      ],
      "metadata": {
        "colab": {
          "base_uri": "https://localhost:8080/",
          "height": 352
        },
        "id": "gL-fOHsYUJsd",
        "outputId": "6e419baf-f4a0-4cac-8a6d-08edb9cb6765"
      },
      "execution_count": 167,
      "outputs": [
        {
          "output_type": "stream",
          "name": "stderr",
          "text": [
            "/usr/local/lib/python3.8/dist-packages/seaborn/_decorators.py:36: FutureWarning: Pass the following variable as a keyword arg: x. From version 0.12, the only valid positional argument will be `data`, and passing other arguments without an explicit keyword will result in an error or misinterpretation.\n",
            "  warnings.warn(\n"
          ]
        },
        {
          "output_type": "execute_result",
          "data": {
            "text/plain": [
              "<matplotlib.axes._subplots.AxesSubplot at 0x7f306e8ae2e0>"
            ]
          },
          "metadata": {},
          "execution_count": 167
        },
        {
          "output_type": "display_data",
          "data": {
            "text/plain": [
              "<Figure size 432x288 with 1 Axes>"
            ],
            "image/png": "[encoded data removed]"
          },
          "metadata": {
            "needs_background": "light"
          }
        }
      ]
    },
    {
      "cell_type": "code",
      "source": [
        "trainorg.shape"
      ],
      "metadata": {
        "colab": {
          "base_uri": "https://localhost:8080/"
        },
        "id": "38xaqfXNULeu",
        "outputId": "b309f472-0128-4eb6-d4c9-c307abe15793"
      },
      "execution_count": 168,
      "outputs": [
        {
          "output_type": "execute_result",
          "data": {
            "text/plain": [
              "(19526, 14)"
            ]
          },
          "metadata": {},
          "execution_count": 168
        }
      ]
    },
    {
      "cell_type": "code",
      "source": [
        "trainorg.isna().sum()"
      ],
      "metadata": {
        "colab": {
          "base_uri": "https://localhost:8080/"
        },
        "id": "lK5Y9fwPUNRb",
        "outputId": "c492f66f-2795-46d7-9575-0cff413768bb"
      },
      "execution_count": 169,
      "outputs": [
        {
          "output_type": "execute_result",
          "data": {
            "text/plain": [
              "Customer_ID                     0\n",
              "No_of_orders_placed             0\n",
              "Category_of_customers           0\n",
              "Maximum_bill                    0\n",
              "Minimum_bill                    0\n",
              "Last_order_placed_date       2974\n",
              "No_of_issues_raised             0\n",
              "Customer_rating                 0\n",
              "Average_food_rating             0\n",
              "Average_happiness_rating        0\n",
              "Coupon_consumption_status       0\n",
              "Coupons_offered                 0\n",
              "Premium_membership              0\n",
              "Discount_percentage           240\n",
              "dtype: int64"
            ]
          },
          "metadata": {},
          "execution_count": 169
        }
      ]
    },
    {
      "cell_type": "code",
      "source": [
        "trainorg['Discount_percentage'].fillna(trainorg['Discount_percentage'].mean(),inplace=True)"
      ],
      "metadata": {
        "id": "ll3T9OPfUXY_"
      },
      "execution_count": 170,
      "outputs": []
    },
    {
      "cell_type": "code",
      "source": [
        "trainorg.isna().sum()"
      ],
      "metadata": {
        "colab": {
          "base_uri": "https://localhost:8080/"
        },
        "id": "7t6HBD-8Ub9o",
        "outputId": "6c939a2c-546c-4405-c011-c7a6e94a5ab6"
      },
      "execution_count": 171,
      "outputs": [
        {
          "output_type": "execute_result",
          "data": {
            "text/plain": [
              "Customer_ID                     0\n",
              "No_of_orders_placed             0\n",
              "Category_of_customers           0\n",
              "Maximum_bill                    0\n",
              "Minimum_bill                    0\n",
              "Last_order_placed_date       2974\n",
              "No_of_issues_raised             0\n",
              "Customer_rating                 0\n",
              "Average_food_rating             0\n",
              "Average_happiness_rating        0\n",
              "Coupon_consumption_status       0\n",
              "Coupons_offered                 0\n",
              "Premium_membership              0\n",
              "Discount_percentage             0\n",
              "dtype: int64"
            ]
          },
          "metadata": {},
          "execution_count": 171
        }
      ]
    },
    {
      "cell_type": "code",
      "source": [
        "corrmatrix = trainorg.corr()\n",
        "plt.subplots(figsize=(20,8))\n",
        "sns.heatmap(corrmatrix,vmin=-0.9,vmax=0.6,annot=True,linewidths=0.2)"
      ],
      "metadata": {
        "colab": {
          "base_uri": "https://localhost:8080/",
          "height": 479
        },
        "id": "C8NCZYezVcnf",
        "outputId": "4d824a97-1f38-4139-f55b-509ee7755b2b"
      },
      "execution_count": 56,
      "outputs": [
        {
          "output_type": "execute_result",
          "data": {
            "text/plain": [
              "<matplotlib.axes._subplots.AxesSubplot at 0x7f30763cf550>"
            ]
          },
          "metadata": {},
          "execution_count": 56
        },
        {
          "output_type": "display_data",
          "data": {
            "text/plain": [
              "<Figure size 1440x576 with 2 Axes>"
            ],
            "image/png": "[encoded data removed]"
          },
          "metadata": {
            "needs_background": "light"
          }
        }
      ]
    },
    {
      "cell_type": "code",
      "source": [
        "trainorg.info()"
      ],
      "metadata": {
        "colab": {
          "base_uri": "https://localhost:8080/"
        },
        "id": "DnkYDELlVuAY",
        "outputId": "bd44d91a-cb11-4967-e703-32a9bd42d4d2"
      },
      "execution_count": 172,
      "outputs": [
        {
          "output_type": "stream",
          "name": "stdout",
          "text": [
            "<class 'pandas.core.frame.DataFrame'>\n",
            "Int64Index: 19526 entries, 0 to 19977\n",
            "Data columns (total 14 columns):\n",
            " #   Column                     Non-Null Count  Dtype  \n",
            "---  ------                     --------------  -----  \n",
            " 0   Customer_ID                19526 non-null  object \n",
            " 1   No_of_orders_placed        19526 non-null  float64\n",
            " 2   Category_of_customers      19526 non-null  object \n",
            " 3   Maximum_bill               19526 non-null  float64\n",
            " 4   Minimum_bill               19526 non-null  float64\n",
            " 5   Last_order_placed_date     16552 non-null  object \n",
            " 6   No_of_issues_raised        19526 non-null  float64\n",
            " 7   Customer_rating            19526 non-null  float64\n",
            " 8   Average_food_rating        19526 non-null  float64\n",
            " 9   Average_happiness_rating   19526 non-null  int64  \n",
            " 10  Coupon_consumption_status  19526 non-null  float64\n",
            " 11  Coupons_offered            19526 non-null  int64  \n",
            " 12  Premium_membership         19526 non-null  object \n",
            " 13  Discount_percentage        19526 non-null  float64\n",
            "dtypes: float64(8), int64(2), object(4)\n",
            "memory usage: 2.2+ MB\n"
          ]
        }
      ]
    },
    {
      "cell_type": "code",
      "source": [
        "trainorg['Category_of_customers'].value_counts()"
      ],
      "metadata": {
        "colab": {
          "base_uri": "https://localhost:8080/"
        },
        "id": "WInU-vGXXF4v",
        "outputId": "6b18859f-00aa-4e68-d4a3-81684897561d"
      },
      "execution_count": 173,
      "outputs": [
        {
          "output_type": "execute_result",
          "data": {
            "text/plain": [
              "Inactive    9567\n",
              "Passive     6287\n",
              "Active      3672\n",
              "Name: Category_of_customers, dtype: int64"
            ]
          },
          "metadata": {},
          "execution_count": 173
        }
      ]
    },
    {
      "cell_type": "code",
      "source": [
        "trainorg['Premium_membership'].value_counts()"
      ],
      "metadata": {
        "colab": {
          "base_uri": "https://localhost:8080/"
        },
        "id": "adhcYqM_XeFD",
        "outputId": "116777c8-8374-4e87-b385-31f25a74073b"
      },
      "execution_count": 174,
      "outputs": [
        {
          "output_type": "execute_result",
          "data": {
            "text/plain": [
              "No     14771\n",
              "Yes     3666\n",
              "0       1089\n",
              "Name: Premium_membership, dtype: int64"
            ]
          },
          "metadata": {},
          "execution_count": 174
        }
      ]
    },
    {
      "cell_type": "code",
      "source": [
        "trainorg.loc[trainorg['Premium_membership'] == '0', 'Premium_membership'] = 'No'"
      ],
      "metadata": {
        "id": "ut3_xFUaXh3h"
      },
      "execution_count": 175,
      "outputs": []
    },
    {
      "cell_type": "code",
      "source": [
        "trainorg = trainorg.drop('Last_order_placed_date',axis=1)\n",
        "trainorg = trainorg.drop('Customer_ID',axis=1)"
      ],
      "metadata": {
        "id": "hKDCoYz_YN7e"
      },
      "execution_count": 176,
      "outputs": []
    },
    {
      "cell_type": "code",
      "source": [
        "#onehot encoding\n",
        "trainorg =pd.get_dummies(trainorg)"
      ],
      "metadata": {
        "id": "esIDwzptXKKA"
      },
      "execution_count": 177,
      "outputs": []
    },
    {
      "cell_type": "code",
      "source": [
        "trainorg.info()"
      ],
      "metadata": {
        "colab": {
          "base_uri": "https://localhost:8080/"
        },
        "id": "qgDc-sWyX2Bd",
        "outputId": "fb58b4a2-8879-47d1-ba8d-64873d36c9ce"
      },
      "execution_count": 178,
      "outputs": [
        {
          "output_type": "stream",
          "name": "stdout",
          "text": [
            "<class 'pandas.core.frame.DataFrame'>\n",
            "Int64Index: 19526 entries, 0 to 19977\n",
            "Data columns (total 15 columns):\n",
            " #   Column                          Non-Null Count  Dtype  \n",
            "---  ------                          --------------  -----  \n",
            " 0   No_of_orders_placed             19526 non-null  float64\n",
            " 1   Maximum_bill                    19526 non-null  float64\n",
            " 2   Minimum_bill                    19526 non-null  float64\n",
            " 3   No_of_issues_raised             19526 non-null  float64\n",
            " 4   Customer_rating                 19526 non-null  float64\n",
            " 5   Average_food_rating             19526 non-null  float64\n",
            " 6   Average_happiness_rating        19526 non-null  int64  \n",
            " 7   Coupon_consumption_status       19526 non-null  float64\n",
            " 8   Coupons_offered                 19526 non-null  int64  \n",
            " 9   Discount_percentage             19526 non-null  float64\n",
            " 10  Category_of_customers_Active    19526 non-null  uint8  \n",
            " 11  Category_of_customers_Inactive  19526 non-null  uint8  \n",
            " 12  Category_of_customers_Passive   19526 non-null  uint8  \n",
            " 13  Premium_membership_No           19526 non-null  uint8  \n",
            " 14  Premium_membership_Yes          19526 non-null  uint8  \n",
            "dtypes: float64(8), int64(2), uint8(5)\n",
            "memory usage: 1.7 MB\n"
          ]
        }
      ]
    },
    {
      "cell_type": "code",
      "source": [
        "trainorg.head()"
      ],
      "metadata": {
        "colab": {
          "base_uri": "https://localhost:8080/",
          "height": 270
        },
        "id": "4mXkSV0kYDAd",
        "outputId": "175546d4-2dd9-423a-8724-4c542e8b86eb"
      },
      "execution_count": 64,
      "outputs": [
        {
          "output_type": "execute_result",
          "data": {
            "text/plain": [
              "   No_of_orders_placed  Maximum_bill  Minimum_bill  No_of_issues_raised  \\\n",
              "0                 99.0       1549.05         79.00            28.192436   \n",
              "1                  5.0       3682.21        124.69             5.000000   \n",
              "2                181.0        729.08        297.79            44.000000   \n",
              "3                196.0       1558.58        102.92            49.000000   \n",
              "4                211.0       1260.48        291.54            43.000000   \n",
              "\n",
              "   Customer_rating  Average_food_rating  Average_happiness_rating  \\\n",
              "0              3.0                  4.0                         3   \n",
              "1              4.0                  4.0                         4   \n",
              "2              4.0                  3.0                         4   \n",
              "3              4.0                  3.0                         3   \n",
              "4              4.0                  3.0                         4   \n",
              "\n",
              "   Coupon_consumption_status  Coupons_offered  Discount_percentage  \\\n",
              "0                       99.0              119                 33.0   \n",
              "1                        5.0               18                 31.0   \n",
              "2                      152.0              245                 43.0   \n",
              "3                       85.0              302                 41.0   \n",
              "4                      120.0              306                 48.0   \n",
              "\n",
              "   Category_of_customers_Active  Category_of_customers_Inactive  \\\n",
              "0                             0                               1   \n",
              "1                             0                               1   \n",
              "2                             0                               1   \n",
              "3                             0                               0   \n",
              "4                             1                               0   \n",
              "\n",
              "   Category_of_customers_Passive  Premium_membership_No  \\\n",
              "0                              0                      1   \n",
              "1                              0                      1   \n",
              "2                              0                      1   \n",
              "3                              1                      1   \n",
              "4                              0                      1   \n",
              "\n",
              "   Premium_membership_Yes  \n",
              "0                       0  \n",
              "1                       0  \n",
              "2                       0  \n",
              "3                       0  \n",
              "4                       0  "
            ],
            "text/html": [
              "\n",
              "  <div id=\"df-585687f6-9567-437b-8d81-7c0bb1615a5e\">\n",
              "    <div class=\"colab-df-container\">\n",
              "      <div>\n",
              "<style scoped>\n",
              "    .dataframe tbody tr th:only-of-type {\n",
              "        vertical-align: middle;\n",
              "    }\n",
              "\n",
              "    .dataframe tbody tr th {\n",
              "        vertical-align: top;\n",
              "    }\n",
              "\n",
              "    .dataframe thead th {\n",
              "        text-align: right;\n",
              "    }\n",
              "</style>\n",
              "<table border=\"1\" class=\"dataframe\">\n",
              "  <thead>\n",
              "    <tr style=\"text-align: right;\">\n",
              "      <th></th>\n",
              "      <th>No_of_orders_placed</th>\n",
              "      <th>Maximum_bill</th>\n",
              "      <th>Minimum_bill</th>\n",
              "      <th>No_of_issues_raised</th>\n",
              "      <th>Customer_rating</th>\n",
              "      <th>Average_food_rating</th>\n",
              "      <th>Average_happiness_rating</th>\n",
              "      <th>Coupon_consumption_status</th>\n",
              "      <th>Coupons_offered</th>\n",
              "      <th>Discount_percentage</th>\n",
              "      <th>Category_of_customers_Active</th>\n",
              "      <th>Category_of_customers_Inactive</th>\n",
              "      <th>Category_of_customers_Passive</th>\n",
              "      <th>Premium_membership_No</th>\n",
              "      <th>Premium_membership_Yes</th>\n",
              "    </tr>\n",
              "  </thead>\n",
              "  <tbody>\n",
              "    <tr>\n",
              "      <th>0</th>\n",
              "      <td>99.0</td>\n",
              "      <td>1549.05</td>\n",
              "      <td>79.00</td>\n",
              "      <td>28.192436</td>\n",
              "      <td>3.0</td>\n",
              "      <td>4.0</td>\n",
              "      <td>3</td>\n",
              "      <td>99.0</td>\n",
              "      <td>119</td>\n",
              "      <td>33.0</td>\n",
              "      <td>0</td>\n",
              "      <td>1</td>\n",
              "      <td>0</td>\n",
              "      <td>1</td>\n",
              "      <td>0</td>\n",
              "    </tr>\n",
              "    <tr>\n",
              "      <th>1</th>\n",
              "      <td>5.0</td>\n",
              "      <td>3682.21</td>\n",
              "      <td>124.69</td>\n",
              "      <td>5.000000</td>\n",
              "      <td>4.0</td>\n",
              "      <td>4.0</td>\n",
              "      <td>4</td>\n",
              "      <td>5.0</td>\n",
              "      <td>18</td>\n",
              "      <td>31.0</td>\n",
              "      <td>0</td>\n",
              "      <td>1</td>\n",
              "      <td>0</td>\n",
              "      <td>1</td>\n",
              "      <td>0</td>\n",
              "    </tr>\n",
              "    <tr>\n",
              "      <th>2</th>\n",
              "      <td>181.0</td>\n",
              "      <td>729.08</td>\n",
              "      <td>297.79</td>\n",
              "      <td>44.000000</td>\n",
              "      <td>4.0</td>\n",
              "      <td>3.0</td>\n",
              "      <td>4</td>\n",
              "      <td>152.0</td>\n",
              "      <td>245</td>\n",
              "      <td>43.0</td>\n",
              "      <td>0</td>\n",
              "      <td>1</td>\n",
              "      <td>0</td>\n",
              "      <td>1</td>\n",
              "      <td>0</td>\n",
              "    </tr>\n",
              "    <tr>\n",
              "      <th>3</th>\n",
              "      <td>196.0</td>\n",
              "      <td>1558.58</td>\n",
              "      <td>102.92</td>\n",
              "      <td>49.000000</td>\n",
              "      <td>4.0</td>\n",
              "      <td>3.0</td>\n",
              "      <td>3</td>\n",
              "      <td>85.0</td>\n",
              "      <td>302</td>\n",
              "      <td>41.0</td>\n",
              "      <td>0</td>\n",
              "      <td>0</td>\n",
              "      <td>1</td>\n",
              "      <td>1</td>\n",
              "      <td>0</td>\n",
              "    </tr>\n",
              "    <tr>\n",
              "      <th>4</th>\n",
              "      <td>211.0</td>\n",
              "      <td>1260.48</td>\n",
              "      <td>291.54</td>\n",
              "      <td>43.000000</td>\n",
              "      <td>4.0</td>\n",
              "      <td>3.0</td>\n",
              "      <td>4</td>\n",
              "      <td>120.0</td>\n",
              "      <td>306</td>\n",
              "      <td>48.0</td>\n",
              "      <td>1</td>\n",
              "      <td>0</td>\n",
              "      <td>0</td>\n",
              "      <td>1</td>\n",
              "      <td>0</td>\n",
              "    </tr>\n",
              "  </tbody>\n",
              "</table>\n",
              "</div>\n",
              "      <button class=\"colab-df-convert\" onclick=\"convertToInteractive('df-585687f6-9567-437b-8d81-7c0bb1615a5e')\"\n",
              "              title=\"Convert this dataframe to an interactive table.\"\n",
              "              style=\"display:none;\">\n",
              "        \n",
              "  <svg xmlns=\"http://www.w3.org/2000/svg\" height=\"24px\"viewBox=\"0 0 24 24\"\n",
              "       width=\"24px\">\n",
              "    <path d=\"M0 0h24v24H0V0z\" fill=\"none\"/>\n",
              "    <path d=\"M18.56 5.44l.94 2.06.94-2.06 2.06-.94-2.06-.94-.94-2.06-.94 2.06-2.06.94zm-11 1L8.5 8.5l.94-2.06 2.06-.94-2.06-.94L8.5 2.5l-.94 2.06-2.06.94zm10 10l.94 2.06.94-2.06 2.06-.94-2.06-.94-.94-2.06-.94 2.06-2.06.94z\"/><path d=\"M17.41 7.96l-1.37-1.37c-.4-.4-.92-.59-1.43-.59-.52 0-1.04.2-1.43.59L10.3 9.45l-7.72 7.72c-.78.78-.78 2.05 0 2.83L4 21.41c.39.39.9.59 1.41.59.51 0 1.02-.2 1.41-.59l7.78-7.78 2.81-2.81c.8-.78.8-2.07 0-2.86zM5.41 20L4 18.59l7.72-7.72 1.47 1.35L5.41 20z\"/>\n",
              "  </svg>\n",
              "      </button>\n",
              "      \n",
              "  <style>\n",
              "    .colab-df-container {\n",
              "      display:flex;\n",
              "      flex-wrap:wrap;\n",
              "      gap: 12px;\n",
              "    }\n",
              "\n",
              "    .colab-df-convert {\n",
              "      background-color: #E8F0FE;\n",
              "      border: none;\n",
              "      border-radius: 50%;\n",
              "      cursor: pointer;\n",
              "      display: none;\n",
              "      fill: #1967D2;\n",
              "      height: 32px;\n",
              "      padding: 0 0 0 0;\n",
              "      width: 32px;\n",
              "    }\n",
              "\n",
              "    .colab-df-convert:hover {\n",
              "      background-color: #E2EBFA;\n",
              "      box-shadow: 0px 1px 2px rgba(60, 64, 67, 0.3), 0px 1px 3px 1px rgba(60, 64, 67, 0.15);\n",
              "      fill: #174EA6;\n",
              "    }\n",
              "\n",
              "    [theme=dark] .colab-df-convert {\n",
              "      background-color: #3B4455;\n",
              "      fill: #D2E3FC;\n",
              "    }\n",
              "\n",
              "    [theme=dark] .colab-df-convert:hover {\n",
              "      background-color: #434B5C;\n",
              "      box-shadow: 0px 1px 3px 1px rgba(0, 0, 0, 0.15);\n",
              "      filter: drop-shadow(0px 1px 2px rgba(0, 0, 0, 0.3));\n",
              "      fill: #FFFFFF;\n",
              "    }\n",
              "  </style>\n",
              "\n",
              "      <script>\n",
              "        const buttonEl =\n",
              "          document.querySelector('#df-585687f6-9567-437b-8d81-7c0bb1615a5e button.colab-df-convert');\n",
              "        buttonEl.style.display =\n",
              "          google.colab.kernel.accessAllowed ? 'block' : 'none';\n",
              "\n",
              "        async function convertToInteractive(key) {\n",
              "          const element = document.querySelector('#df-585687f6-9567-437b-8d81-7c0bb1615a5e');\n",
              "          const dataTable =\n",
              "            await google.colab.kernel.invokeFunction('convertToInteractive',\n",
              "                                                     [key], {});\n",
              "          if (!dataTable) return;\n",
              "\n",
              "          const docLinkHtml = 'Like what you see? Visit the ' +\n",
              "            '<a target=\"_blank\" href=https://colab.research.google.com/notebooks/data_table.ipynb>data table notebook</a>'\n",
              "            + ' to learn more about interactive tables.';\n",
              "          element.innerHTML = '';\n",
              "          dataTable['output_type'] = 'display_data';\n",
              "          await google.colab.output.renderOutput(dataTable, element);\n",
              "          const docLink = document.createElement('div');\n",
              "          docLink.innerHTML = docLinkHtml;\n",
              "          element.appendChild(docLink);\n",
              "        }\n",
              "      </script>\n",
              "    </div>\n",
              "  </div>\n",
              "  "
            ]
          },
          "metadata": {},
          "execution_count": 64
        }
      ]
    },
    {
      "cell_type": "code",
      "source": [
        "y = trainorg.Discount_percentage\n",
        "x = trainorg.drop(['Discount_percentage'],axis=1)"
      ],
      "metadata": {
        "id": "zMFjcPOIaksg"
      },
      "execution_count": 179,
      "outputs": []
    },
    {
      "cell_type": "code",
      "source": [
        "y.shape"
      ],
      "metadata": {
        "colab": {
          "base_uri": "https://localhost:8080/"
        },
        "id": "19Rwnt1obIVZ",
        "outputId": "6ee7a322-7f4c-4604-8003-b622b942d0a0"
      },
      "execution_count": 180,
      "outputs": [
        {
          "output_type": "execute_result",
          "data": {
            "text/plain": [
              "(19526,)"
            ]
          },
          "metadata": {},
          "execution_count": 180
        }
      ]
    },
    {
      "cell_type": "code",
      "source": [],
      "metadata": {
        "id": "uwyw0KJBbai-"
      },
      "execution_count": 66,
      "outputs": []
    },
    {
      "cell_type": "code",
      "source": [
        "x.shape"
      ],
      "metadata": {
        "colab": {
          "base_uri": "https://localhost:8080/"
        },
        "id": "wIOPuL6KbJu4",
        "outputId": "c70175cd-3757-4d0e-c0f6-d1a9089ec5f1"
      },
      "execution_count": 67,
      "outputs": [
        {
          "output_type": "execute_result",
          "data": {
            "text/plain": [
              "(19526, 14)"
            ]
          },
          "metadata": {},
          "execution_count": 67
        }
      ]
    },
    {
      "cell_type": "code",
      "source": [
        "from sklearn.model_selection import train_test_split  \n",
        "x_train, x_test, y_train, y_test = train_test_split(x, y, test_size = 0.25, random_state = 0)"
      ],
      "metadata": {
        "id": "xAYQTQZmbL9X"
      },
      "execution_count": 181,
      "outputs": []
    },
    {
      "cell_type": "code",
      "source": [
        "from sklearn.preprocessing import StandardScaler \n",
        "sc = StandardScaler()  \n",
        "x_train = sc.fit_transform(x_train)   \n",
        "x_test = sc.transform(x_test)"
      ],
      "metadata": {
        "id": "eykK1C3bbhGj"
      },
      "execution_count": 182,
      "outputs": []
    },
    {
      "cell_type": "markdown",
      "source": [
        "# **Modelling**"
      ],
      "metadata": {
        "id": "MwzZCfZmbyGS"
      }
    },
    {
      "cell_type": "code",
      "source": [
        "#linear model\n",
        "from sklearn.linear_model import LinearRegression\n",
        "from sklearn.metrics import mean_squared_error,mean_squared_log_error\n",
        "from sklearn.metrics import r2_score\n",
        "from sklearn.model_selection import cross_val_score\n",
        "def modelfit(alg, x_test, y_test,x_train, y_train):\n",
        "    #Fit the algorithm on the data\n",
        "    alg.fit(x_train, y_train)\n",
        "        \n",
        "    #Predict training set:\n",
        "    y_predictions = alg.predict(x_test)\n",
        "\n",
        "    #Perform cross-validation:\n",
        "    cv_score = cross_val_score(alg, x_train, y_train, cv=20)\n",
        "    cv_score = np.sqrt(np.abs(cv_score))\n",
        "    \n",
        "    #Print model report:\n",
        "    print (\"\\nModel Report\")\n",
        "    mse = mean_squared_error(y_test, y_predictions)\n",
        "    print('RMSE :', np.sqrt(mse))\n",
        "    print('Variance score: %.2f' % r2_score(y_test, y_predictions))\n",
        "\n",
        "    score = 100*max(0,1-mean_squared_log_error(y_test, y_predictions))\n",
        "    print(\"score is\",score)\n",
        "    \n",
        "    "
      ],
      "metadata": {
        "id": "nlY1s84mb1H1"
      },
      "execution_count": 70,
      "outputs": []
    },
    {
      "cell_type": "code",
      "source": [
        "modelfit(LinearRegression(),x_test,y_test,x_train, y_train)"
      ],
      "metadata": {
        "colab": {
          "base_uri": "https://localhost:8080/"
        },
        "id": "-Upl3Gp2cBzF",
        "outputId": "8cbdfc1e-90a8-4838-940e-00ee25f03079"
      },
      "execution_count": 71,
      "outputs": [
        {
          "output_type": "stream",
          "name": "stdout",
          "text": [
            "\n",
            "Model Report\n",
            "RMSE : 8.325332049009083\n",
            "Variance score: 0.24\n",
            "score is 95.12787271480839\n"
          ]
        }
      ]
    },
    {
      "cell_type": "code",
      "source": [
        "from sklearn.tree import DecisionTreeRegressor\n",
        "modelfit(DecisionTreeRegressor(max_depth=15,min_samples_leaf=300),x_test,y_test,x_train, y_train)"
      ],
      "metadata": {
        "colab": {
          "base_uri": "https://localhost:8080/"
        },
        "id": "Dd6aVZUedHNn",
        "outputId": "b11d11eb-210b-4c1e-87a1-d1dc7d10f0ac"
      },
      "execution_count": 72,
      "outputs": [
        {
          "output_type": "stream",
          "name": "stdout",
          "text": [
            "\n",
            "Model Report\n",
            "RMSE : 6.213602457956908\n",
            "Variance score: 0.58\n",
            "score is 97.24635845138553\n"
          ]
        }
      ]
    },
    {
      "cell_type": "code",
      "source": [
        "from sklearn.ensemble import RandomForestRegressor\n",
        "regressor = RandomForestRegressor(n_estimators=100,max_depth=6, min_samples_leaf=50,n_jobs=4)\n",
        "modelfit(regressor,x_test,y_test,x_train, y_train)"
      ],
      "metadata": {
        "colab": {
          "base_uri": "https://localhost:8080/"
        },
        "id": "TuZNI0O0dK85",
        "outputId": "dfaaf23a-761e-4710-d4f6-f09fd8d5f132"
      },
      "execution_count": 73,
      "outputs": [
        {
          "output_type": "stream",
          "name": "stdout",
          "text": [
            "\n",
            "Model Report\n",
            "RMSE : 5.9991030955043145\n",
            "Variance score: 0.60\n",
            "score is 97.42455139655183\n"
          ]
        }
      ]
    },
    {
      "cell_type": "code",
      "source": [
        "from sklearn.ensemble import AdaBoostRegressor\n",
        "\n",
        "adaboostregressor= AdaBoostRegressor(n_estimators = 100)\n",
        "modelfit(adaboostregressor,x_test,y_test,x_train, y_train)"
      ],
      "metadata": {
        "colab": {
          "base_uri": "https://localhost:8080/"
        },
        "id": "wkEmhVd0d3HN",
        "outputId": "7f3bf983-25fa-4145-c761-baeb01a045ea"
      },
      "execution_count": 74,
      "outputs": [
        {
          "output_type": "stream",
          "name": "stdout",
          "text": [
            "\n",
            "Model Report\n",
            "RMSE : 7.0044836814939195\n",
            "Variance score: 0.46\n",
            "score is 96.32706809719416\n"
          ]
        }
      ]
    },
    {
      "cell_type": "code",
      "source": [
        "from sklearn.ensemble import GradientBoostingRegressor\n",
        "\n",
        "boosting = GradientBoostingRegressor()\n",
        "modelfit(boosting,x_test,y_test,x_train, y_train)"
      ],
      "metadata": {
        "colab": {
          "base_uri": "https://localhost:8080/"
        },
        "id": "73XsSb4xeuUR",
        "outputId": "2237b046-6ba0-4e6a-f093-2fb323605097"
      },
      "execution_count": 75,
      "outputs": [
        {
          "output_type": "stream",
          "name": "stdout",
          "text": [
            "\n",
            "Model Report\n",
            "RMSE : 6.208423319599233\n",
            "Variance score: 0.58\n",
            "score is 97.21696138573982\n"
          ]
        }
      ]
    },
    {
      "cell_type": "code",
      "source": [
        "from sklearn.model_selection import GridSearchCV\n",
        "from sklearn.model_selection import KFold\n",
        "ada=AdaBoostRegressor()\n",
        "crossvalidation=KFold(n_splits=10,shuffle=True,random_state=1)\n",
        "search_grid={'n_estimators':[500,1000,2000],'learning_rate':[.001,0.01,.1],'random_state':[1]}\n",
        "search=GridSearchCV(estimator=ada,param_grid=search_grid,scoring='neg_mean_squared_error',n_jobs=1,cv=crossvalidation)\n",
        " "
      ],
      "metadata": {
        "id": "NcrH6s7SfE_v"
      },
      "execution_count": 76,
      "outputs": []
    },
    {
      "cell_type": "code",
      "source": [
        "search.fit(x,y)"
      ],
      "metadata": {
        "colab": {
          "base_uri": "https://localhost:8080/"
        },
        "id": "DQQCYFl_fMcV",
        "outputId": "e5370226-ba04-4d61-e177-51e3eda95ae4"
      },
      "execution_count": 77,
      "outputs": [
        {
          "output_type": "execute_result",
          "data": {
            "text/plain": [
              "GridSearchCV(cv=KFold(n_splits=10, random_state=1, shuffle=True),\n",
              "             estimator=AdaBoostRegressor(), n_jobs=1,\n",
              "             param_grid={'learning_rate': [0.001, 0.01, 0.1],\n",
              "                         'n_estimators': [500, 1000, 2000],\n",
              "                         'random_state': [1]},\n",
              "             scoring='neg_mean_squared_error')"
            ]
          },
          "metadata": {},
          "execution_count": 77
        }
      ]
    },
    {
      "cell_type": "code",
      "source": [
        "search.best_params_"
      ],
      "metadata": {
        "colab": {
          "base_uri": "https://localhost:8080/"
        },
        "id": "SciRkt16fP19",
        "outputId": "dc52012c-5311-4f56-c9ee-571b58254386"
      },
      "execution_count": 78,
      "outputs": [
        {
          "output_type": "execute_result",
          "data": {
            "text/plain": [
              "{'learning_rate': 0.01, 'n_estimators': 500, 'random_state': 1}"
            ]
          },
          "metadata": {},
          "execution_count": 78
        }
      ]
    },
    {
      "cell_type": "code",
      "source": [
        "from sklearn.ensemble import AdaBoostRegressor\n",
        "\n",
        "adaboostregressor= AdaBoostRegressor(n_estimators = 500,learning_rate=0.01,random_state= 1)\n",
        "modelfit(adaboostregressor,x_test,y_test,x_train, y_train)"
      ],
      "metadata": {
        "colab": {
          "base_uri": "https://localhost:8080/"
        },
        "id": "EulO1kH0nyo9",
        "outputId": "f3ecbb2f-c3fd-4586-8f99-df766b6d8a35"
      },
      "execution_count": 79,
      "outputs": [
        {
          "output_type": "stream",
          "name": "stdout",
          "text": [
            "\n",
            "Model Report\n",
            "RMSE : 6.628092210239037\n",
            "Variance score: 0.52\n",
            "score is 96.80859000281616\n"
          ]
        }
      ]
    },
    {
      "cell_type": "code",
      "source": [
        "#best algorithm is Randomforestregressor"
      ],
      "metadata": {
        "id": "w_JWQPhFowWZ"
      },
      "execution_count": null,
      "outputs": []
    },
    {
      "cell_type": "code",
      "source": [
        "#testing result"
      ],
      "metadata": {
        "id": "ADkcwoRUo7Ek"
      },
      "execution_count": 80,
      "outputs": []
    },
    {
      "cell_type": "code",
      "source": [
        "testorg.isna().sum()"
      ],
      "metadata": {
        "colab": {
          "base_uri": "https://localhost:8080/"
        },
        "id": "AWS8Z565o-XO",
        "outputId": "22404605-b19c-4a9d-a09d-3782046228ed"
      },
      "execution_count": 82,
      "outputs": [
        {
          "output_type": "execute_result",
          "data": {
            "text/plain": [
              "Customer_ID                     0\n",
              "No_of_orders_placed           905\n",
              "Category_of_customers         625\n",
              "Maximum_bill                  474\n",
              "Minimum_bill                    0\n",
              "Last_order_placed_date       1401\n",
              "No_of_issues_raised           539\n",
              "Customer_rating               780\n",
              "Average_food_rating           115\n",
              "Average_happiness_rating        0\n",
              "Coupon_consumption_status     105\n",
              "Coupons_offered                 0\n",
              "Premium_membership              0\n",
              "dtype: int64"
            ]
          },
          "metadata": {},
          "execution_count": 82
        }
      ]
    },
    {
      "cell_type": "code",
      "source": [
        "test =testorg"
      ],
      "metadata": {
        "id": "i69SweFgpJOK"
      },
      "execution_count": 183,
      "outputs": []
    },
    {
      "cell_type": "code",
      "source": [
        "test = test.drop(['Customer_ID','Last_order_placed_date'],axis=1)"
      ],
      "metadata": {
        "id": "t_dxK_YzpNOd"
      },
      "execution_count": 184,
      "outputs": []
    },
    {
      "cell_type": "code",
      "source": [
        "test.isna().sum()"
      ],
      "metadata": {
        "colab": {
          "base_uri": "https://localhost:8080/"
        },
        "id": "rbfEzA1VpZLe",
        "outputId": "e75c12d7-216e-4a83-f0f6-1e872d87335e"
      },
      "execution_count": 185,
      "outputs": [
        {
          "output_type": "execute_result",
          "data": {
            "text/plain": [
              "No_of_orders_placed          905\n",
              "Category_of_customers        625\n",
              "Maximum_bill                 474\n",
              "Minimum_bill                   0\n",
              "No_of_issues_raised          539\n",
              "Customer_rating              780\n",
              "Average_food_rating          115\n",
              "Average_happiness_rating       0\n",
              "Coupon_consumption_status    105\n",
              "Coupons_offered                0\n",
              "Premium_membership             0\n",
              "dtype: int64"
            ]
          },
          "metadata": {},
          "execution_count": 185
        }
      ]
    },
    {
      "cell_type": "code",
      "source": [
        "#defined common function to fit,predict check the value and export the result\n",
        "from sklearn.model_selection import cross_val_score\n",
        "def modelfit(alg, x_test, y_test,x_train, y_train, IDcol, filename,testoriginaldata,test_x,target):\n",
        "    #Fit the algorithm on the data\n",
        "    alg.fit(x_train, y_train)\n",
        "        \n",
        "    #Predict training set:\n",
        "    y_predictions = alg.predict(x_test)\n",
        "\n",
        "    #Perform cross-validation:\n",
        "    cv_score = cross_val_score(alg, x_train, y_train, cv=20)\n",
        "    cv_score = np.sqrt(np.abs(cv_score))\n",
        "    \n",
        "    #Print model report:\n",
        "    print (\"\\nModel Report\")\n",
        "    mse = mean_squared_error(y_test, y_predictions)\n",
        "    print('RMSE :', np.sqrt(mse))\n",
        "    print('Variance score: %.2f' % r2_score(y_test, y_predictions))\n",
        "    \n",
        "    #Predict on testing data:\n",
        "    testoriginaldata[target] = alg.predict(test_x)\n",
        "    \n",
        "    #Export submission file:\n",
        "    IDcol.append(target)\n",
        "    submission = pd.DataFrame({ x: testoriginaldata[x] for x in IDcol})\n",
        "    submission.to_csv(filename, index=False)"
      ],
      "metadata": {
        "id": "qJcx2N58qdmM"
      },
      "execution_count": 106,
      "outputs": []
    },
    {
      "cell_type": "code",
      "source": [
        "#Define target and ID columns:\n",
        "target = 'Discount_percentage'\n",
        "IDcol = ['Customer_ID']"
      ],
      "metadata": {
        "id": "y7ilG0ELqycj"
      },
      "execution_count": 115,
      "outputs": []
    },
    {
      "cell_type": "code",
      "source": [
        "from sklearn.ensemble import RandomForestRegressor\n",
        "regressor = RandomForestRegressor(n_estimators=100,max_depth=6, min_samples_leaf=50,n_jobs=4)\n",
        "modelfit(regressor,x_test,y_test,x_train, y_train,IDcol,'randomforest_regressionresult.csv',testorg,test_x,target)"
      ],
      "metadata": {
        "colab": {
          "base_uri": "https://localhost:8080/"
        },
        "id": "Ar843cd4rKRa",
        "outputId": "5eeb7c9a-2282-4707-d7d1-eac80fb6ece6"
      },
      "execution_count": 200,
      "outputs": [
        {
          "output_type": "stream",
          "name": "stdout",
          "text": [
            "\n",
            "Model Report\n",
            "RMSE : 5.999520691500634\n",
            "Variance score: 0.60\n"
          ]
        }
      ]
    },
    {
      "cell_type": "code",
      "source": [
        "test.isna().sum()"
      ],
      "metadata": {
        "colab": {
          "base_uri": "https://localhost:8080/"
        },
        "id": "ZQwJY5TRrm88",
        "outputId": "722c253b-38ce-4f47-afc9-a789dfd0ca9e"
      },
      "execution_count": 186,
      "outputs": [
        {
          "output_type": "execute_result",
          "data": {
            "text/plain": [
              "No_of_orders_placed          905\n",
              "Category_of_customers        625\n",
              "Maximum_bill                 474\n",
              "Minimum_bill                   0\n",
              "No_of_issues_raised          539\n",
              "Customer_rating              780\n",
              "Average_food_rating          115\n",
              "Average_happiness_rating       0\n",
              "Coupon_consumption_status    105\n",
              "Coupons_offered                0\n",
              "Premium_membership             0\n",
              "dtype: int64"
            ]
          },
          "metadata": {},
          "execution_count": 186
        }
      ]
    },
    {
      "cell_type": "code",
      "source": [
        "test['No_of_orders_placed'].fillna(test['No_of_orders_placed'].mean(),inplace=True)\n",
        "test['Category_of_customers'].fillna('Inactive',inplace=True)\n",
        "test.loc[test['Category_of_customers'] == '0', 'Category_of_customers'] = 'Inactive'\n",
        "test['Maximum_bill'].fillna(test['Maximum_bill'].mean(),inplace=True)\n",
        "test['No_of_issues_raised'].fillna(test['No_of_issues_raised'].mean(),inplace=True)\n",
        "test['Customer_rating'].fillna(4.0,inplace=True)\n",
        "test['Average_food_rating'].fillna(4.0,inplace=True)\n",
        "test['Coupon_consumption_status'].fillna(test['Coupon_consumption_status'].median(),inplace=True)"
      ],
      "metadata": {
        "id": "IwwXRV5-scve"
      },
      "execution_count": 187,
      "outputs": []
    },
    {
      "cell_type": "code",
      "source": [
        "test.isna().sum()"
      ],
      "metadata": {
        "colab": {
          "base_uri": "https://localhost:8080/"
        },
        "id": "sw1jRVmwseKX",
        "outputId": "cfab17f9-17c4-44fc-969f-da1fc32f2ee6"
      },
      "execution_count": 188,
      "outputs": [
        {
          "output_type": "execute_result",
          "data": {
            "text/plain": [
              "No_of_orders_placed          0\n",
              "Category_of_customers        0\n",
              "Maximum_bill                 0\n",
              "Minimum_bill                 0\n",
              "No_of_issues_raised          0\n",
              "Customer_rating              0\n",
              "Average_food_rating          0\n",
              "Average_happiness_rating     0\n",
              "Coupon_consumption_status    0\n",
              "Coupons_offered              0\n",
              "Premium_membership           0\n",
              "dtype: int64"
            ]
          },
          "metadata": {},
          "execution_count": 188
        }
      ]
    },
    {
      "cell_type": "code",
      "source": [
        "test = test.drop(['Last_order_placed_date'],axis=1)"
      ],
      "metadata": {
        "colab": {
          "base_uri": "https://localhost:8080/",
          "height": 311
        },
        "id": "27YejaFGshTU",
        "outputId": "920ec96a-b129-4f88-ea7d-a67f2a999387"
      },
      "execution_count": 190,
      "outputs": [
        {
          "output_type": "error",
          "ename": "KeyError",
          "evalue": "ignored",
          "traceback": [
            "\u001b[0;31m---------------------------------------------------------------------------\u001b[0m",
            "\u001b[0;31mKeyError\u001b[0m                                  Traceback (most recent call last)",
            "\u001b[0;32m<ipython-input-190-5fc6608e2f50>\u001b[0m in \u001b[0;36m<module>\u001b[0;34m\u001b[0m\n\u001b[0;32m----> 1\u001b[0;31m \u001b[0mtest\u001b[0m \u001b[0;34m=\u001b[0m \u001b[0mtest\u001b[0m\u001b[0;34m.\u001b[0m\u001b[0mdrop\u001b[0m\u001b[0;34m(\u001b[0m\u001b[0;34m[\u001b[0m\u001b[0;34m'Last_order_placed_date'\u001b[0m\u001b[0;34m]\u001b[0m\u001b[0;34m,\u001b[0m\u001b[0maxis\u001b[0m\u001b[0;34m=\u001b[0m\u001b[0;36m1\u001b[0m\u001b[0;34m)\u001b[0m\u001b[0;34m\u001b[0m\u001b[0;34m\u001b[0m\u001b[0m\n\u001b[0m",
            "\u001b[0;32m/usr/local/lib/python3.8/dist-packages/pandas/util/_decorators.py\u001b[0m in \u001b[0;36mwrapper\u001b[0;34m(*args, **kwargs)\u001b[0m\n\u001b[1;32m    309\u001b[0m                     \u001b[0mstacklevel\u001b[0m\u001b[0;34m=\u001b[0m\u001b[0mstacklevel\u001b[0m\u001b[0;34m,\u001b[0m\u001b[0;34m\u001b[0m\u001b[0;34m\u001b[0m\u001b[0m\n\u001b[1;32m    310\u001b[0m                 )\n\u001b[0;32m--> 311\u001b[0;31m             \u001b[0;32mreturn\u001b[0m \u001b[0mfunc\u001b[0m\u001b[0;34m(\u001b[0m\u001b[0;34m*\u001b[0m\u001b[0margs\u001b[0m\u001b[0;34m,\u001b[0m \u001b[0;34m**\u001b[0m\u001b[0mkwargs\u001b[0m\u001b[0;34m)\u001b[0m\u001b[0;34m\u001b[0m\u001b[0;34m\u001b[0m\u001b[0m\n\u001b[0m\u001b[1;32m    312\u001b[0m \u001b[0;34m\u001b[0m\u001b[0m\n\u001b[1;32m    313\u001b[0m         \u001b[0;32mreturn\u001b[0m \u001b[0mwrapper\u001b[0m\u001b[0;34m\u001b[0m\u001b[0;34m\u001b[0m\u001b[0m\n",
            "\u001b[0;32m/usr/local/lib/python3.8/dist-packages/pandas/core/frame.py\u001b[0m in \u001b[0;36mdrop\u001b[0;34m(self, labels, axis, index, columns, level, inplace, errors)\u001b[0m\n\u001b[1;32m   4904\u001b[0m                 \u001b[0mweight\u001b[0m  \u001b[0;36m1.0\u001b[0m     \u001b[0;36m0.8\u001b[0m\u001b[0;34m\u001b[0m\u001b[0;34m\u001b[0m\u001b[0m\n\u001b[1;32m   4905\u001b[0m         \"\"\"\n\u001b[0;32m-> 4906\u001b[0;31m         return super().drop(\n\u001b[0m\u001b[1;32m   4907\u001b[0m             \u001b[0mlabels\u001b[0m\u001b[0;34m=\u001b[0m\u001b[0mlabels\u001b[0m\u001b[0;34m,\u001b[0m\u001b[0;34m\u001b[0m\u001b[0;34m\u001b[0m\u001b[0m\n\u001b[1;32m   4908\u001b[0m             \u001b[0maxis\u001b[0m\u001b[0;34m=\u001b[0m\u001b[0maxis\u001b[0m\u001b[0;34m,\u001b[0m\u001b[0;34m\u001b[0m\u001b[0;34m\u001b[0m\u001b[0m\n",
            "\u001b[0;32m/usr/local/lib/python3.8/dist-packages/pandas/core/generic.py\u001b[0m in \u001b[0;36mdrop\u001b[0;34m(self, labels, axis, index, columns, level, inplace, errors)\u001b[0m\n\u001b[1;32m   4148\u001b[0m         \u001b[0;32mfor\u001b[0m \u001b[0maxis\u001b[0m\u001b[0;34m,\u001b[0m \u001b[0mlabels\u001b[0m \u001b[0;32min\u001b[0m \u001b[0maxes\u001b[0m\u001b[0;34m.\u001b[0m\u001b[0mitems\u001b[0m\u001b[0;34m(\u001b[0m\u001b[0;34m)\u001b[0m\u001b[0;34m:\u001b[0m\u001b[0;34m\u001b[0m\u001b[0;34m\u001b[0m\u001b[0m\n\u001b[1;32m   4149\u001b[0m             \u001b[0;32mif\u001b[0m \u001b[0mlabels\u001b[0m \u001b[0;32mis\u001b[0m \u001b[0;32mnot\u001b[0m \u001b[0;32mNone\u001b[0m\u001b[0;34m:\u001b[0m\u001b[0;34m\u001b[0m\u001b[0;34m\u001b[0m\u001b[0m\n\u001b[0;32m-> 4150\u001b[0;31m                 \u001b[0mobj\u001b[0m \u001b[0;34m=\u001b[0m \u001b[0mobj\u001b[0m\u001b[0;34m.\u001b[0m\u001b[0m_drop_axis\u001b[0m\u001b[0;34m(\u001b[0m\u001b[0mlabels\u001b[0m\u001b[0;34m,\u001b[0m \u001b[0maxis\u001b[0m\u001b[0;34m,\u001b[0m \u001b[0mlevel\u001b[0m\u001b[0;34m=\u001b[0m\u001b[0mlevel\u001b[0m\u001b[0;34m,\u001b[0m \u001b[0merrors\u001b[0m\u001b[0;34m=\u001b[0m\u001b[0merrors\u001b[0m\u001b[0;34m)\u001b[0m\u001b[0;34m\u001b[0m\u001b[0;34m\u001b[0m\u001b[0m\n\u001b[0m\u001b[1;32m   4151\u001b[0m \u001b[0;34m\u001b[0m\u001b[0m\n\u001b[1;32m   4152\u001b[0m         \u001b[0;32mif\u001b[0m \u001b[0minplace\u001b[0m\u001b[0;34m:\u001b[0m\u001b[0;34m\u001b[0m\u001b[0;34m\u001b[0m\u001b[0m\n",
            "\u001b[0;32m/usr/local/lib/python3.8/dist-packages/pandas/core/generic.py\u001b[0m in \u001b[0;36m_drop_axis\u001b[0;34m(self, labels, axis, level, errors)\u001b[0m\n\u001b[1;32m   4183\u001b[0m                 \u001b[0mnew_axis\u001b[0m \u001b[0;34m=\u001b[0m \u001b[0maxis\u001b[0m\u001b[0;34m.\u001b[0m\u001b[0mdrop\u001b[0m\u001b[0;34m(\u001b[0m\u001b[0mlabels\u001b[0m\u001b[0;34m,\u001b[0m \u001b[0mlevel\u001b[0m\u001b[0;34m=\u001b[0m\u001b[0mlevel\u001b[0m\u001b[0;34m,\u001b[0m \u001b[0merrors\u001b[0m\u001b[0;34m=\u001b[0m\u001b[0merrors\u001b[0m\u001b[0;34m)\u001b[0m\u001b[0;34m\u001b[0m\u001b[0;34m\u001b[0m\u001b[0m\n\u001b[1;32m   4184\u001b[0m             \u001b[0;32melse\u001b[0m\u001b[0;34m:\u001b[0m\u001b[0;34m\u001b[0m\u001b[0;34m\u001b[0m\u001b[0m\n\u001b[0;32m-> 4185\u001b[0;31m                 \u001b[0mnew_axis\u001b[0m \u001b[0;34m=\u001b[0m \u001b[0maxis\u001b[0m\u001b[0;34m.\u001b[0m\u001b[0mdrop\u001b[0m\u001b[0;34m(\u001b[0m\u001b[0mlabels\u001b[0m\u001b[0;34m,\u001b[0m \u001b[0merrors\u001b[0m\u001b[0;34m=\u001b[0m\u001b[0merrors\u001b[0m\u001b[0;34m)\u001b[0m\u001b[0;34m\u001b[0m\u001b[0;34m\u001b[0m\u001b[0m\n\u001b[0m\u001b[1;32m   4186\u001b[0m             \u001b[0mresult\u001b[0m \u001b[0;34m=\u001b[0m \u001b[0mself\u001b[0m\u001b[0;34m.\u001b[0m\u001b[0mreindex\u001b[0m\u001b[0;34m(\u001b[0m\u001b[0;34m**\u001b[0m\u001b[0;34m{\u001b[0m\u001b[0maxis_name\u001b[0m\u001b[0;34m:\u001b[0m \u001b[0mnew_axis\u001b[0m\u001b[0;34m}\u001b[0m\u001b[0;34m)\u001b[0m\u001b[0;34m\u001b[0m\u001b[0;34m\u001b[0m\u001b[0m\n\u001b[1;32m   4187\u001b[0m \u001b[0;34m\u001b[0m\u001b[0m\n",
            "\u001b[0;32m/usr/local/lib/python3.8/dist-packages/pandas/core/indexes/base.py\u001b[0m in \u001b[0;36mdrop\u001b[0;34m(self, labels, errors)\u001b[0m\n\u001b[1;32m   6015\u001b[0m         \u001b[0;32mif\u001b[0m \u001b[0mmask\u001b[0m\u001b[0;34m.\u001b[0m\u001b[0many\u001b[0m\u001b[0;34m(\u001b[0m\u001b[0;34m)\u001b[0m\u001b[0;34m:\u001b[0m\u001b[0;34m\u001b[0m\u001b[0;34m\u001b[0m\u001b[0m\n\u001b[1;32m   6016\u001b[0m             \u001b[0;32mif\u001b[0m \u001b[0merrors\u001b[0m \u001b[0;34m!=\u001b[0m \u001b[0;34m\"ignore\"\u001b[0m\u001b[0;34m:\u001b[0m\u001b[0;34m\u001b[0m\u001b[0;34m\u001b[0m\u001b[0m\n\u001b[0;32m-> 6017\u001b[0;31m                 \u001b[0;32mraise\u001b[0m \u001b[0mKeyError\u001b[0m\u001b[0;34m(\u001b[0m\u001b[0;34mf\"{labels[mask]} not found in axis\"\u001b[0m\u001b[0;34m)\u001b[0m\u001b[0;34m\u001b[0m\u001b[0;34m\u001b[0m\u001b[0m\n\u001b[0m\u001b[1;32m   6018\u001b[0m             \u001b[0mindexer\u001b[0m \u001b[0;34m=\u001b[0m \u001b[0mindexer\u001b[0m\u001b[0;34m[\u001b[0m\u001b[0;34m~\u001b[0m\u001b[0mmask\u001b[0m\u001b[0;34m]\u001b[0m\u001b[0;34m\u001b[0m\u001b[0;34m\u001b[0m\u001b[0m\n\u001b[1;32m   6019\u001b[0m         \u001b[0;32mreturn\u001b[0m \u001b[0mself\u001b[0m\u001b[0;34m.\u001b[0m\u001b[0mdelete\u001b[0m\u001b[0;34m(\u001b[0m\u001b[0mindexer\u001b[0m\u001b[0;34m)\u001b[0m\u001b[0;34m\u001b[0m\u001b[0;34m\u001b[0m\u001b[0m\n",
            "\u001b[0;31mKeyError\u001b[0m: \"['Last_order_placed_date'] not found in axis\""
          ]
        }
      ]
    },
    {
      "cell_type": "code",
      "source": [
        "test =pd.get_dummies(test)"
      ],
      "metadata": {
        "id": "ZdBtQLoPsoY3"
      },
      "execution_count": 191,
      "outputs": []
    },
    {
      "cell_type": "code",
      "source": [
        "test.shape"
      ],
      "metadata": {
        "colab": {
          "base_uri": "https://localhost:8080/"
        },
        "id": "jvMFbtPos1U8",
        "outputId": "caa5c4ac-689a-459f-f293-b93ed8cdbb3f"
      },
      "execution_count": 192,
      "outputs": [
        {
          "output_type": "execute_result",
          "data": {
            "text/plain": [
              "(13319, 14)"
            ]
          },
          "metadata": {},
          "execution_count": 192
        }
      ]
    },
    {
      "cell_type": "code",
      "source": [
        "test.head()"
      ],
      "metadata": {
        "colab": {
          "base_uri": "https://localhost:8080/",
          "height": 270
        },
        "id": "f5-7u3U_s2UQ",
        "outputId": "55748491-5b1a-4b7e-89c9-0a250dc972b7"
      },
      "execution_count": 112,
      "outputs": [
        {
          "output_type": "execute_result",
          "data": {
            "text/plain": [
              "   No_of_orders_placed  Maximum_bill  Minimum_bill  No_of_issues_raised  \\\n",
              "0                 92.0       1332.28        238.00            28.005164   \n",
              "1                197.0       2058.34        230.51             4.000000   \n",
              "2                 94.0       2524.05        232.00            36.000000   \n",
              "3                229.0       1258.67        266.03            12.000000   \n",
              "4                172.0       2033.03        141.95            31.000000   \n",
              "\n",
              "   Customer_rating  Average_food_rating  Average_happiness_rating  \\\n",
              "0              4.0                  3.0                         3   \n",
              "1              5.0                  3.0                         4   \n",
              "2              4.0                  3.0                         4   \n",
              "3              2.0                  5.0                         4   \n",
              "4              4.0                  4.0                         3   \n",
              "\n",
              "   Coupon_consumption_status  Coupons_offered  Category_of_customers_Active  \\\n",
              "0                       92.0              115                             1   \n",
              "1                       31.0              297                             0   \n",
              "2                       36.0              119                             0   \n",
              "3                      168.0              337                             0   \n",
              "4                       64.0              224                             0   \n",
              "\n",
              "   Category_of_customers_Inactive  Category_of_customers_Passive  \\\n",
              "0                               0                              0   \n",
              "1                               1                              0   \n",
              "2                               0                              1   \n",
              "3                               0                              1   \n",
              "4                               0                              1   \n",
              "\n",
              "   Premium_membership_No  Premium_membership_Yes  \n",
              "0                      1                       0  \n",
              "1                      1                       0  \n",
              "2                      1                       0  \n",
              "3                      1                       0  \n",
              "4                      1                       0  "
            ],
            "text/html": [
              "\n",
              "  <div id=\"df-9dd385df-745b-4f4e-8b19-c1e21d762cde\">\n",
              "    <div class=\"colab-df-container\">\n",
              "      <div>\n",
              "<style scoped>\n",
              "    .dataframe tbody tr th:only-of-type {\n",
              "        vertical-align: middle;\n",
              "    }\n",
              "\n",
              "    .dataframe tbody tr th {\n",
              "        vertical-align: top;\n",
              "    }\n",
              "\n",
              "    .dataframe thead th {\n",
              "        text-align: right;\n",
              "    }\n",
              "</style>\n",
              "<table border=\"1\" class=\"dataframe\">\n",
              "  <thead>\n",
              "    <tr style=\"text-align: right;\">\n",
              "      <th></th>\n",
              "      <th>No_of_orders_placed</th>\n",
              "      <th>Maximum_bill</th>\n",
              "      <th>Minimum_bill</th>\n",
              "      <th>No_of_issues_raised</th>\n",
              "      <th>Customer_rating</th>\n",
              "      <th>Average_food_rating</th>\n",
              "      <th>Average_happiness_rating</th>\n",
              "      <th>Coupon_consumption_status</th>\n",
              "      <th>Coupons_offered</th>\n",
              "      <th>Category_of_customers_Active</th>\n",
              "      <th>Category_of_customers_Inactive</th>\n",
              "      <th>Category_of_customers_Passive</th>\n",
              "      <th>Premium_membership_No</th>\n",
              "      <th>Premium_membership_Yes</th>\n",
              "    </tr>\n",
              "  </thead>\n",
              "  <tbody>\n",
              "    <tr>\n",
              "      <th>0</th>\n",
              "      <td>92.0</td>\n",
              "      <td>1332.28</td>\n",
              "      <td>238.00</td>\n",
              "      <td>28.005164</td>\n",
              "      <td>4.0</td>\n",
              "      <td>3.0</td>\n",
              "      <td>3</td>\n",
              "      <td>92.0</td>\n",
              "      <td>115</td>\n",
              "      <td>1</td>\n",
              "      <td>0</td>\n",
              "      <td>0</td>\n",
              "      <td>1</td>\n",
              "      <td>0</td>\n",
              "    </tr>\n",
              "    <tr>\n",
              "      <th>1</th>\n",
              "      <td>197.0</td>\n",
              "      <td>2058.34</td>\n",
              "      <td>230.51</td>\n",
              "      <td>4.000000</td>\n",
              "      <td>5.0</td>\n",
              "      <td>3.0</td>\n",
              "      <td>4</td>\n",
              "      <td>31.0</td>\n",
              "      <td>297</td>\n",
              "      <td>0</td>\n",
              "      <td>1</td>\n",
              "      <td>0</td>\n",
              "      <td>1</td>\n",
              "      <td>0</td>\n",
              "    </tr>\n",
              "    <tr>\n",
              "      <th>2</th>\n",
              "      <td>94.0</td>\n",
              "      <td>2524.05</td>\n",
              "      <td>232.00</td>\n",
              "      <td>36.000000</td>\n",
              "      <td>4.0</td>\n",
              "      <td>3.0</td>\n",
              "      <td>4</td>\n",
              "      <td>36.0</td>\n",
              "      <td>119</td>\n",
              "      <td>0</td>\n",
              "      <td>0</td>\n",
              "      <td>1</td>\n",
              "      <td>1</td>\n",
              "      <td>0</td>\n",
              "    </tr>\n",
              "    <tr>\n",
              "      <th>3</th>\n",
              "      <td>229.0</td>\n",
              "      <td>1258.67</td>\n",
              "      <td>266.03</td>\n",
              "      <td>12.000000</td>\n",
              "      <td>2.0</td>\n",
              "      <td>5.0</td>\n",
              "      <td>4</td>\n",
              "      <td>168.0</td>\n",
              "      <td>337</td>\n",
              "      <td>0</td>\n",
              "      <td>0</td>\n",
              "      <td>1</td>\n",
              "      <td>1</td>\n",
              "      <td>0</td>\n",
              "    </tr>\n",
              "    <tr>\n",
              "      <th>4</th>\n",
              "      <td>172.0</td>\n",
              "      <td>2033.03</td>\n",
              "      <td>141.95</td>\n",
              "      <td>31.000000</td>\n",
              "      <td>4.0</td>\n",
              "      <td>4.0</td>\n",
              "      <td>3</td>\n",
              "      <td>64.0</td>\n",
              "      <td>224</td>\n",
              "      <td>0</td>\n",
              "      <td>0</td>\n",
              "      <td>1</td>\n",
              "      <td>1</td>\n",
              "      <td>0</td>\n",
              "    </tr>\n",
              "  </tbody>\n",
              "</table>\n",
              "</div>\n",
              "      <button class=\"colab-df-convert\" onclick=\"convertToInteractive('df-9dd385df-745b-4f4e-8b19-c1e21d762cde')\"\n",
              "              title=\"Convert this dataframe to an interactive table.\"\n",
              "              style=\"display:none;\">\n",
              "        \n",
              "  <svg xmlns=\"http://www.w3.org/2000/svg\" height=\"24px\"viewBox=\"0 0 24 24\"\n",
              "       width=\"24px\">\n",
              "    <path d=\"M0 0h24v24H0V0z\" fill=\"none\"/>\n",
              "    <path d=\"M18.56 5.44l.94 2.06.94-2.06 2.06-.94-2.06-.94-.94-2.06-.94 2.06-2.06.94zm-11 1L8.5 8.5l.94-2.06 2.06-.94-2.06-.94L8.5 2.5l-.94 2.06-2.06.94zm10 10l.94 2.06.94-2.06 2.06-.94-2.06-.94-.94-2.06-.94 2.06-2.06.94z\"/><path d=\"M17.41 7.96l-1.37-1.37c-.4-.4-.92-.59-1.43-.59-.52 0-1.04.2-1.43.59L10.3 9.45l-7.72 7.72c-.78.78-.78 2.05 0 2.83L4 21.41c.39.39.9.59 1.41.59.51 0 1.02-.2 1.41-.59l7.78-7.78 2.81-2.81c.8-.78.8-2.07 0-2.86zM5.41 20L4 18.59l7.72-7.72 1.47 1.35L5.41 20z\"/>\n",
              "  </svg>\n",
              "      </button>\n",
              "      \n",
              "  <style>\n",
              "    .colab-df-container {\n",
              "      display:flex;\n",
              "      flex-wrap:wrap;\n",
              "      gap: 12px;\n",
              "    }\n",
              "\n",
              "    .colab-df-convert {\n",
              "      background-color: #E8F0FE;\n",
              "      border: none;\n",
              "      border-radius: 50%;\n",
              "      cursor: pointer;\n",
              "      display: none;\n",
              "      fill: #1967D2;\n",
              "      height: 32px;\n",
              "      padding: 0 0 0 0;\n",
              "      width: 32px;\n",
              "    }\n",
              "\n",
              "    .colab-df-convert:hover {\n",
              "      background-color: #E2EBFA;\n",
              "      box-shadow: 0px 1px 2px rgba(60, 64, 67, 0.3), 0px 1px 3px 1px rgba(60, 64, 67, 0.15);\n",
              "      fill: #174EA6;\n",
              "    }\n",
              "\n",
              "    [theme=dark] .colab-df-convert {\n",
              "      background-color: #3B4455;\n",
              "      fill: #D2E3FC;\n",
              "    }\n",
              "\n",
              "    [theme=dark] .colab-df-convert:hover {\n",
              "      background-color: #434B5C;\n",
              "      box-shadow: 0px 1px 3px 1px rgba(0, 0, 0, 0.15);\n",
              "      filter: drop-shadow(0px 1px 2px rgba(0, 0, 0, 0.3));\n",
              "      fill: #FFFFFF;\n",
              "    }\n",
              "  </style>\n",
              "\n",
              "      <script>\n",
              "        const buttonEl =\n",
              "          document.querySelector('#df-9dd385df-745b-4f4e-8b19-c1e21d762cde button.colab-df-convert');\n",
              "        buttonEl.style.display =\n",
              "          google.colab.kernel.accessAllowed ? 'block' : 'none';\n",
              "\n",
              "        async function convertToInteractive(key) {\n",
              "          const element = document.querySelector('#df-9dd385df-745b-4f4e-8b19-c1e21d762cde');\n",
              "          const dataTable =\n",
              "            await google.colab.kernel.invokeFunction('convertToInteractive',\n",
              "                                                     [key], {});\n",
              "          if (!dataTable) return;\n",
              "\n",
              "          const docLinkHtml = 'Like what you see? Visit the ' +\n",
              "            '<a target=\"_blank\" href=https://colab.research.google.com/notebooks/data_table.ipynb>data table notebook</a>'\n",
              "            + ' to learn more about interactive tables.';\n",
              "          element.innerHTML = '';\n",
              "          dataTable['output_type'] = 'display_data';\n",
              "          await google.colab.output.renderOutput(dataTable, element);\n",
              "          const docLink = document.createElement('div');\n",
              "          docLink.innerHTML = docLinkHtml;\n",
              "          element.appendChild(docLink);\n",
              "        }\n",
              "      </script>\n",
              "    </div>\n",
              "  </div>\n",
              "  "
            ]
          },
          "metadata": {},
          "execution_count": 112
        }
      ]
    },
    {
      "cell_type": "code",
      "source": [
        "from sklearn.preprocessing import StandardScaler \n",
        "sc = StandardScaler()  \n",
        "test_x = sc.fit_transform(test)   "
      ],
      "metadata": {
        "id": "PakpbORvs7GI"
      },
      "execution_count": 193,
      "outputs": []
    },
    {
      "cell_type": "code",
      "source": [
        "\n",
        "test_x =pd.DataFrame(test_x)\n"
      ],
      "metadata": {
        "id": "4o30mfuFtTOP"
      },
      "execution_count": 198,
      "outputs": []
    },
    {
      "cell_type": "code",
      "source": [],
      "metadata": {
        "id": "4_-88kaXv18R"
      },
      "execution_count": null,
      "outputs": []
    }
  ]
}